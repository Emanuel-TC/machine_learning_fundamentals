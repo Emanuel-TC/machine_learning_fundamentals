{
 "cells": [
  {
   "cell_type": "code",
   "execution_count": null,
   "metadata": {
    "id": "lXyR3B1-cst0"
   },
   "outputs": [],
   "source": [
    "from IPython.core.display import Image, display\n",
    "%matplotlib inline\n",
    "%config InlineBackend.figure_format = 'retina'  \n",
    "import matplotlib.pyplot as plt\n",
    "import numpy as np\n",
    "import pandas as pd"
   ]
  },
  {
   "cell_type": "code",
   "execution_count": null,
   "metadata": {
    "id": "fm3gxPXut2e1"
   },
   "outputs": [],
   "source": [
    "def load_data():\n",
    "  data = pd.read_csv('https://archive.ics.uci.edu/ml/machine-learning-databases/statlog/german/german.data',\n",
    "                     delimiter=\" \",\n",
    "                     header=None)\n",
    "  data.columns=['existingchecking', \n",
    "                'duration', \n",
    "                'credithistory', \n",
    "                'purpose', \n",
    "                'creditamount', \n",
    "                'savings', \n",
    "                'employmentsince', \n",
    "                'installmentrate', \n",
    "                'statussex', \n",
    "                'otherdebtors', \n",
    "                'residencesince', \n",
    "                'property', \n",
    "                'age', \n",
    "                'otherinstallmentplans', \n",
    "                'housing', \n",
    "                'existingcredits', \n",
    "                'job', \n",
    "                'peopleliable', \n",
    "                'telephone', \n",
    "                'foreignworker', \n",
    "                'target'\n",
    "                ]\n",
    "  data.loc[:,'target'] = data['target'].replace([1,2],[1,0])\n",
    "  return data"
   ]
  },
  {
   "cell_type": "markdown",
   "metadata": {
    "id": "-8pLlMwKcst8"
   },
   "source": [
    "# Mini Proyecto 1\n",
    "\n",
    "### Fundamentos de Aprendizaje Automático \n",
    "\n",
    "### Enero 2025\n",
    "\n",
    "**Emilio Parrado Hernández, Vanessa Gómez Verdejo, Pablo Martínez Olmos**\n",
    "\n",
    "Departamento de Teoría de la Señal y Comunicaciones\n",
    "\n",
    "**Universidad Carlos III de Madrid**\n",
    "\n",
    "<img src='http://www.tsc.uc3m.es/~emipar/BBVA/INTRO/img/logo_uc3m_foot.jpg' width=400 />"
   ]
  },
  {
   "cell_type": "code",
   "execution_count": null,
   "metadata": {
    "id": "aIgJdjQGcst_"
   },
   "outputs": [],
   "source": [
    "data = load_data()\n",
    "print(\"Cargadas {0:d} observaciones con {1:d} columnas\\n\".format(len(data), len(data.columns)))\n"
   ]
  },
  {
   "cell_type": "markdown",
   "metadata": {
    "id": "GJr3vkQcpzMP"
   },
   "source": [
    "# 1. Codificación de variables categóricas (20%).\n",
    "\n",
    "Vamos a trabajar con una base de datos de un problema de crédito. Cada observación tiene datos de los clientes y de la operación concreta. El *target* indica si la operación salió bien (*target*=1) o no (*target*=2). En la carga de datos hemos transformado los *target*=2 en ceros para seguir la notación usada en la sesión anterior.\n",
    "\n",
    "Lea la [descripción de los datos](https://archive.ics.uci.edu/ml/machine-learning-databases/statlog/german/german.doc) y divida las variables (excepto el *target*) en dos listas\n",
    "- `v_cat`, con los nombres de las variables que sean categóricas\n",
    "- `v_num`, con los nombres de las variables que sean numéricas"
   ]
  },
  {
   "cell_type": "code",
   "execution_count": null,
   "metadata": {
    "id": "sTljR3R3twHK"
   },
   "outputs": [],
   "source": [
    "\n",
    "#\n",
    "# v_cat = [\"existingchecking\", ...]\n",
    "# v_num = [...]\n",
    "#\n",
    "\n",
    "\n",
    "\n",
    "\n",
    "\n",
    "\n"
   ]
  },
  {
   "cell_type": "markdown",
   "metadata": {
    "id": "ws6cgU8QrJ2Y"
   },
   "source": [
    "Instancie un objeto *one hot encoder* de sklearn para codificar las variables categóricas.\n",
    "\n",
    "Explote el método [`get_feature_names`](https://scikit-learn.org/stable/modules/generated/sklearn.preprocessing.OneHotEncoder.html#sklearn.preprocessing.OneHotEncoder.get_feature_names) para asignar un nombre a cada variables transformada que tenga relación con la variable original.\n",
    "\n",
    "Finalmente construya un *dataframe* de pandas análogo al *dataframe* `data` llamado `data_ohe` cuyas columnas sean las columnas correspondientes a las variables resultantes de la codificación *one hot encoding* seguidas de las columnas de las variables numéricas."
   ]
  },
  {
   "cell_type": "code",
   "execution_count": null,
   "metadata": {
    "id": "6E7-70bh09Jp"
   },
   "outputs": [],
   "source": [
    "# sklearn OneHotEncoder\n",
    "\n",
    "# \n",
    "\n",
    "\n",
    "#\n",
    "#\n",
    "\n",
    "#\n",
    "#\n",
    "#\n",
    "\n"
   ]
  },
  {
   "cell_type": "markdown",
   "metadata": {
    "id": "2Lad4UdBx6Un"
   },
   "source": [
    "# 2. Divida la base de datos en dos conjuntos, entrenamiento y test con un 70% de observaciones en el conjunto de entrenamiento"
   ]
  },
  {
   "cell_type": "code",
   "execution_count": null,
   "metadata": {
    "id": "nyZMSYZg2Acg"
   },
   "outputs": [],
   "source": [
    "# x_train, x_test, y_train, y_test =\n",
    "\n"
   ]
  },
  {
   "cell_type": "markdown",
   "metadata": {
    "id": "Hxf_r5mSyOyh"
   },
   "source": [
    "# 3. Escalado (20%)\n",
    "Razone si las variables de entrada necesitan un escalado y, de ser así, proponga uno de los escalados disponibles en sklearn y realice la transformación."
   ]
  },
  {
   "cell_type": "markdown",
   "metadata": {
    "id": "Pd1glRyeyfkC"
   },
   "source": [
    "**Respuesta:** "
   ]
  },
  {
   "cell_type": "code",
   "execution_count": null,
   "metadata": {
    "id": "_ii81diu1gri"
   },
   "outputs": [],
   "source": [
    "#\n",
    "# Código \n",
    "#\n"
   ]
  },
  {
   "cell_type": "markdown",
   "metadata": {
    "id": "Q1HX-Ea32xah"
   },
   "source": [
    "# 4. Análisis con Random Forest para conseguir prestaciones top baseline (10%)\n",
    "\n",
    "Vamos a realizar una estimación de las prestaciones más precisas que podríamos alcanzar al modelar esta base de datos con aprendizaje automático. \n",
    "\n",
    "Para ello emplearemos *Random Forest* buscando valores para el número de hojas y el tamaño del bosque.\n",
    "\n",
    "\n"
   ]
  },
  {
   "cell_type": "code",
   "execution_count": null,
   "metadata": {
    "id": "r289rmql2n0g"
   },
   "outputs": [],
   "source": [
    "#\n",
    "# Defina un rango razonable para explorar número de hojas por árbol\n",
    "#\n",
    "# Defina un rango razonable para el tamaño del bosque\n",
    "#\n",
    "# Determine los hiperparámetros que dan mejor precisión, \n",
    "# indicando los valores de los hiperparámetros y la precisión alcanzada\n",
    "#\n",
    "\n"
   ]
  },
  {
   "cell_type": "markdown",
   "metadata": {
    "id": "Mq8lFCQI4ckM"
   },
   "source": [
    "# 5. Análisis de relevancia basado en información mutua\n",
    "\n",
    "## 5.1.- Realice un ranking de las variables de entrada en orden decreciente de información mutua con la clase *target* (10%).\n",
    "\n",
    "Discuta la idoneidad de este ranking bajo el punto de vista del negocio."
   ]
  },
  {
   "cell_type": "code",
   "execution_count": null,
   "metadata": {
    "id": "Y5ahaNTc4FO2"
   },
   "outputs": [],
   "source": [
    "#\n",
    "#\n",
    "#"
   ]
  },
  {
   "cell_type": "markdown",
   "metadata": {
    "id": "BxAqYPT8cO7o"
   },
   "source": [
    "## 5.2. Selección de variables con información mutua y validación cruzada (15%)\n",
    "\n",
    "Como primera aproximación a la resolución del problema con un número reducido de variables, construya un *pipeline* conectando una etapa de selección de variables por información mutua seguida de un clasificador basado en $k$NN. \n",
    "\n",
    "Explore combinaciones razonables de número de variables elegidas y números de vecinos que permitan una explicación sencilla de las decisiones.\n",
    "\n",
    "Diseñe un procedimiento de validación cruzada para optimizar estos hiperparámetros y compare las prestaciones alcanzadas con aquellas obtenidas mediante Random Forest."
   ]
  },
  {
   "cell_type": "code",
   "execution_count": null,
   "metadata": {
    "id": "P-yguRzfcO7o"
   },
   "outputs": [],
   "source": [
    "#\n",
    "#\n",
    "#"
   ]
  },
  {
   "cell_type": "markdown",
   "metadata": {
    "id": "n5kXBNdw2tMR"
   },
   "source": [
    "# 6. Añadir variables al modelo recursivamente (15%)\n",
    "\n",
    "Como segunda aproximación a la resolución del problema con un número reducido de variables implemente un bucle que en cada iteración vaya añadiendo una variable (siguiendo el procedimiento explicado en la sesión) y almacene el error en test resultante del modelo entrenado en cada iteración.\n",
    "\n",
    "Imprima el orden en el que se han introducido las variables y compárelo con el orden sugerido por información mutua\n",
    "\n",
    "Adicionalmente represente gráficamente la precisión del modelo frente al número de variables."
   ]
  },
  {
   "cell_type": "code",
   "execution_count": null,
   "metadata": {
    "id": "nrg-BY1N2mqj"
   },
   "outputs": [],
   "source": [
    "#\n",
    "#\n",
    "#"
   ]
  },
  {
   "cell_type": "markdown",
   "metadata": {
    "id": "GORwruKd3u84"
   },
   "source": [
    "# 7. Eliminar variables del modelo recursivamente (10%)\n",
    "\n",
    "Como tercera aproximación a la resolución del problema con un número reducido de variables implemente un bucle que en cada iteración vaya eliminando una variable (siguiendo el procedimiento explicado en la sesión) y almacene el error en test resultante del modelo entrenado en cada iteración.\n",
    "\n",
    "Imprima el orden en el que se han eliminado las variables y compárelo con el orden sugerido por información mutua y por el bucle anterior\n",
    "\n",
    "Adicionalmente represente gráficamente la precisión del modelo frente al número de variables."
   ]
  },
  {
   "cell_type": "code",
   "execution_count": null,
   "metadata": {
    "id": "CQKu-ThH7R0M"
   },
   "outputs": [],
   "source": [
    "#\n",
    "#\n",
    "#"
   ]
  },
  {
   "cell_type": "markdown",
   "metadata": {
    "id": "rOJvc83U4Adq"
   },
   "source": [
    "# 8. Extra (10%)\n",
    "Esta parte no es necesaria que se realice, son puntos extra a sumar a los de las partes anteriores.\n",
    "\n",
    "La implementación *Random Forest* de sklearn lleva una propia cuenta de la relevancia de cada variable mediante una medida que tiene en cuenta el número de veces que esa variable se ha usado en los árboles del bosque y qué ganancia se ha obtenido en cada uno de los tests en los que esa variable se ha usado.\n",
    "\n",
    "Encuentre este ranking de variables y compárelo con los obtenidos en los ejercicios anteriores."
   ]
  },
  {
   "cell_type": "code",
   "execution_count": null,
   "metadata": {
    "id": "-kkPy5w89s-0"
   },
   "outputs": [],
   "source": [
    "#\n",
    "#\n",
    "#"
   ]
  }
 ],
 "metadata": {
  "celltoolbar": "Slideshow",
  "colab": {
   "collapsed_sections": [],
   "name": "homework1_students.ipynb",
   "provenance": [
    {
     "file_id": "1vkZk9nmbLTXu9N1HxEybcS5rV1SIeIx9",
     "timestamp": 1592823141804
    }
   ],
   "toc_visible": true
  },
  "kernelspec": {
   "display_name": "Python 3 (ipykernel)",
   "language": "python",
   "name": "python3"
  },
  "language_info": {
   "codemirror_mode": {
    "name": "ipython",
    "version": 3
   },
   "file_extension": ".py",
   "mimetype": "text/x-python",
   "name": "python",
   "nbconvert_exporter": "python",
   "pygments_lexer": "ipython3",
   "version": "3.10.2"
  }
 },
 "nbformat": 4,
 "nbformat_minor": 1
}
