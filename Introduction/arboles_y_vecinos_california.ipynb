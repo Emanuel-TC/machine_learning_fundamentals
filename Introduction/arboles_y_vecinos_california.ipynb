{
 "cells": [
  {
   "cell_type": "code",
   "execution_count": null,
   "metadata": {
    "colab": {},
    "colab_type": "code",
    "executionInfo": {
     "elapsed": 2018,
     "status": "ok",
     "timestamp": 1592636000866,
     "user": {
      "displayName": "EMILIO PARRADO HERNANDEZ",
      "photoUrl": "https://lh3.googleusercontent.com/a-/AOh14Ghu-OvX6osyVq8b7J4Xa7D7HiZ61sPYwKqgPxyJ=s64",
      "userId": "09506376050266996513"
     },
     "user_tz": -120
    },
    "id": "lXyR3B1-cst0",
    "slideshow": {
     "slide_type": "skip"
    }
   },
   "outputs": [],
   "source": [
    "from IPython.core.display import Image\n",
    "from IPython import display"
   ]
  },
  {
   "cell_type": "code",
   "execution_count": null,
   "metadata": {
    "colab": {},
    "colab_type": "code",
    "executionInfo": {
     "elapsed": 2015,
     "status": "ok",
     "timestamp": 1592636000867,
     "user": {
      "displayName": "EMILIO PARRADO HERNANDEZ",
      "photoUrl": "https://lh3.googleusercontent.com/a-/AOh14Ghu-OvX6osyVq8b7J4Xa7D7HiZ61sPYwKqgPxyJ=s64",
      "userId": "09506376050266996513"
     },
     "user_tz": -120
    },
    "id": "McTkC40Tcst3",
    "slideshow": {
     "slide_type": "skip"
    }
   },
   "outputs": [],
   "source": [
    "%matplotlib inline\n",
    "%config InlineBackend.figure_format = 'retina'  "
   ]
  },
  {
   "cell_type": "code",
   "execution_count": null,
   "metadata": {
    "colab": {},
    "colab_type": "code",
    "executionInfo": {
     "elapsed": 2014,
     "status": "ok",
     "timestamp": 1592636000868,
     "user": {
      "displayName": "EMILIO PARRADO HERNANDEZ",
      "photoUrl": "https://lh3.googleusercontent.com/a-/AOh14Ghu-OvX6osyVq8b7J4Xa7D7HiZ61sPYwKqgPxyJ=s64",
      "userId": "09506376050266996513"
     },
     "user_tz": -120
    },
    "id": "lopz8Y9Ccst6",
    "slideshow": {
     "slide_type": "skip"
    }
   },
   "outputs": [],
   "source": [
    "\n",
    "import matplotlib.pyplot as plt\n",
    "import numpy as np\n",
    "from scipy.stats import multivariate_normal, norm\n",
    "import pandas as pd"
   ]
  },
  {
   "cell_type": "code",
   "execution_count": null,
   "metadata": {
    "colab": {},
    "colab_type": "code",
    "executionInfo": {
     "elapsed": 2012,
     "status": "ok",
     "timestamp": 1592636000868,
     "user": {
      "displayName": "EMILIO PARRADO HERNANDEZ",
      "photoUrl": "https://lh3.googleusercontent.com/a-/AOh14Ghu-OvX6osyVq8b7J4Xa7D7HiZ61sPYwKqgPxyJ=s64",
      "userId": "09506376050266996513"
     },
     "user_tz": -120
    },
    "id": "zbv_cLbrEemD",
    "slideshow": {
     "slide_type": "skip"
    }
   },
   "outputs": [],
   "source": [
    "class stump(object):\n",
    "    def __init__(self, v, u, x, y):\n",
    "        self.v = v\n",
    "        self.u = u\n",
    "        cuales_izq = np.where(x[:,v] <= u)[0]\n",
    "        if np.mean(y[cuales_izq]) < 0:\n",
    "            self.y_izq = -1\n",
    "        else:\n",
    "            self.y_izq = 1\n",
    "        cuales_dcha = np.where(x[:,v] > u)[0]\n",
    "        if np.mean(y[cuales_dcha]) < 0:\n",
    "            self.y_dch = -1\n",
    "        else:\n",
    "            self.y_dch = 1\n",
    "    def predict(self, x):\n",
    "        n = len(x)\n",
    "        output = self.y_dch * np.ones(n)\n",
    "        cuales_izq = np.where(x[:,self.v] <= self.u)[0]\n",
    "        output[cuales_izq] = self.y_izq\n",
    "        return output"
   ]
  },
  {
   "cell_type": "code",
   "execution_count": null,
   "metadata": {
    "colab": {},
    "colab_type": "code",
    "executionInfo": {
     "elapsed": 2011,
     "status": "ok",
     "timestamp": 1592636000869,
     "user": {
      "displayName": "EMILIO PARRADO HERNANDEZ",
      "photoUrl": "https://lh3.googleusercontent.com/a-/AOh14Ghu-OvX6osyVq8b7J4Xa7D7HiZ61sPYwKqgPxyJ=s64",
      "userId": "09506376050266996513"
     },
     "user_tz": -120
    },
    "id": "fm3gxPXut2e1",
    "slideshow": {
     "slide_type": "skip"
    }
   },
   "outputs": [],
   "source": [
    "def load_spam():\n",
    "  data = pd.read_csv('https://archive.ics.uci.edu/ml/machine-learning-databases/spambase/spambase.data',header=None)\n",
    "  data.columns=[\"wf_make\",         \n",
    "\"wf_address\",      \n",
    "\"wf_all\",          \n",
    "\"wf_3d\",           \n",
    "\"wf_our\",          \n",
    "\"wf_over\",         \n",
    "\"wf_remove\",       \n",
    "\"wf_internet\",     \n",
    "\"wf_order\",        \n",
    "\"wf_mail\",         \n",
    "\"wf_receive\",      \n",
    "\"wf_will\",         \n",
    "\"wf_people\",       \n",
    "\"wf_report\",       \n",
    "\"wf_addresses\",    \n",
    "\"wf_free\",         \n",
    "\"wf_business\",     \n",
    "\"wf_email\",        \n",
    "\"wf_you\",          \n",
    "\"wf_credit\",       \n",
    "\"wf_your\",         \n",
    "\"wf_font\",         \n",
    "\"wf_000\",          \n",
    "\"wf_money\",        \n",
    "\"wf_hp\",           \n",
    "\"wf_hpl\",          \n",
    "\"wf_george\",       \n",
    "\"wf_650\",          \n",
    "\"wf_lab\",          \n",
    "\"wf_labs\",         \n",
    "\"wf_telnet\",       \n",
    "\"wf_857\",          \n",
    "\"wf_data\",         \n",
    "\"wf_415\",          \n",
    "\"wf_85\",           \n",
    "\"wf_technology\",   \n",
    "\"wf_1999\",         \n",
    "\"wf_parts\",        \n",
    "\"wf_pm\",           \n",
    "\"wf_direct\",       \n",
    "\"wf_cs\",           \n",
    "\"wf_meeting\",      \n",
    "\"wf_original\",     \n",
    "\"wf_project\",      \n",
    "\"wf_re\",           \n",
    "\"wf_edu\",          \n",
    "\"wf_table\",        \n",
    "\"wf_conference\",   \n",
    "\"cf_;\",            \n",
    "\"cf_(\",            \n",
    "\"cf_[\",            \n",
    "\"cf_!\",            \n",
    "\"cf_$\",            \n",
    "\"cf_#\",            \n",
    "\"cap_average\", \n",
    "\"cap_longest\", \n",
    "\"cap_total\",\n",
    "\"target\"]\n",
    "  return data"
   ]
  },
  {
   "cell_type": "markdown",
   "metadata": {
    "colab_type": "text",
    "id": "-8pLlMwKcst8",
    "slideshow": {
     "slide_type": "slide"
    }
   },
   "source": [
    "# Introducción al aprendizaje Automático (2)\n",
    "\n",
    "### Fundamentos de Aprendizaje Automático \n",
    "\n",
    "### Enero 2025\n",
    "\n",
    "**Emilio Parrado Hernández, Vanessa Gómez Verdejo, Pablo Martínez Olmos**\n",
    "\n",
    "Departamento de Teoría de la Señal y Comunicaciones\n",
    "\n",
    "**Universidad Carlos III de Madrid**\n",
    "\n",
    "<img src='http://www.tsc.uc3m.es/~emipar/BBVA/INTRO/img/logo_uc3m_foot.jpg' width=400 />"
   ]
  },
  {
   "cell_type": "markdown",
   "metadata": {
    "colab_type": "text",
    "id": "fkFqhwCGcst8",
    "slideshow": {
     "slide_type": "slide"
    }
   },
   "source": [
    "# Contenidos que se van a tratar a lo largo de la sesión\n",
    "\n",
    "- Introducción a scikit learn\n",
    "- Método de los k vecinos más próximos\n",
    "- Árboles de decisión y regresión\n",
    "- Introducción a métodos *ensemble* (*random forest*)\n",
    "- Parámetros entrenables e hiperparámetros\n",
    "- Funciones de coste y de pérdidas\n",
    "- Sobreajuste\n",
    "- Evaluación de modelos para clasificación y regresión\n",
    "- Muy centrados en el uso de algoritmos, no en su optimización\n",
    "\n",
    "\n",
    "<img src='http://www.tsc.uc3m.es/~emipar/BBVA/INTRO/img/logo_uc3m_foot.jpg' width=400 />"
   ]
  },
  {
   "cell_type": "markdown",
   "metadata": {
    "colab_type": "text",
    "id": "mIzaLNQ_cst8",
    "slideshow": {
     "slide_type": "slide"
    }
   },
   "source": [
    "# Método de los $k$ vecinos más próximos\n",
    "- En la sesión anterior visitamos el método del vecino más próximo como paradigma de **modelo no paramétrico**\n",
    "- Es una particularización de un método más general que se conoce como *kNN* ($k$ *nearest neighbors*)\n",
    "- Considerar los $k$ vecinos más próximos permite definir el vecindario de una manera **más robusta**\n",
    "- $k$ es un **hiperparámetro** que se fija mediante **conocimiento a priori**, por tanto $k$NN se sigue considerando **no paramétrico**\n",
    "- El método de los $k$ vecinos puede emplearse tanto para **clasificación** como para **regresión**\n",
    "\n",
    "<img src='http://www.tsc.uc3m.es/~emipar/BBVA/INTRO/img/logo_uc3m_foot.jpg' width=400 />\n"
   ]
  },
  {
   "cell_type": "markdown",
   "metadata": {
    "colab_type": "text",
    "id": "5zJbfzeXcst9",
    "slideshow": {
     "slide_type": "slide"
    }
   },
   "source": [
    "## Clasificación con $k$NN\n",
    "\n",
    "### 2. Clasificación de una observación de test $\\mathbf x_t$\n",
    "- Buscar de entre las observaciones del conjunto de entrenamiento las $k$ que están a una **distancia** menor de $\\mathbf x_t$: Estas muestras son los $k$ vecinos más próximos de $\\mathbf x_t$\n",
    "- Rescatar los *targets*, en este caso la **clase de pertenencia** de cada uno de los $k$ vecinos. Fijaos que esta metodología sirve para clasificaciones **binarias y multiclase**\n",
    "- Asignar como *target* para la observación de test, $y_t$, a la clase **mayoritaria** de entre los $k$ vecinos. \n",
    "\n",
    "<img src='http://www.tsc.uc3m.es/~emipar/BBVA/INTRO/img/logo_uc3m_foot.jpg' width=400 />"
   ]
  },
  {
   "cell_type": "markdown",
   "metadata": {
    "colab_type": "text",
    "id": "c2PdW9J2cst9",
    "slideshow": {
     "slide_type": "slide"
    }
   },
   "source": [
    "\n",
    "   \n",
    "### 1. Construcción del modelo\n",
    "- No tenemos modelo, sólo una **tabla** que guarda las observaciones del **conjunto** de entrenamiento y sus correspondientes *targets*\n",
    "- Definir una **distancia** o **métrica** para comparar observaciones, típicamente la distancia **euclídea** o **norma $L_2$**\n",
    "$$\n",
    "d(\\mathbf x_1,\\mathbf x_2) = \\sqrt{\\sum_{j=1}^d((\\mathbf x_1)_j - (\\mathbf x_2)_j)^2} = \\sqrt{(\\mathbf x_1 - \\mathbf x_2)^\\top(\\mathbf x_1 - \\mathbf x_2)}\n",
    "$$  \n",
    "en python `d_x1_x2 = numpy.linalg.norm(x1-x2)` \n",
    "- Fijar $k$ (número de vecinos)\n",
    "- Fijar una estrategia de voto para determinar la clase mayoritaria entre los $k$ vecinos:\n",
    "  - Cada vecino emite un voto unitario en favor de su clase\n",
    "  - El voto de cada vecino se **pondera inversamente proporcional** a la distancia a la que se encuentre de $\\mathbf x_t$, de este modo los vecinos más cercanos influyen más \n",
    "\n",
    "<img src='http://www.tsc.uc3m.es/~emipar/BBVA/INTRO/img/logo_uc3m_foot.jpg' width=400 />\n"
   ]
  },
  {
   "cell_type": "markdown",
   "metadata": {
    "colab_type": "text",
    "id": "X3BND5qW9Jeg",
    "slideshow": {
     "slide_type": "slide"
    }
   },
   "source": [
    "### 3. Ejemplo de funcionamiento con un *toy problem*"
   ]
  },
  {
   "cell_type": "code",
   "execution_count": null,
   "metadata": {
    "colab": {},
    "colab_type": "code",
    "executionInfo": {
     "elapsed": 2609,
     "status": "ok",
     "timestamp": 1592636001469,
     "user": {
      "displayName": "EMILIO PARRADO HERNANDEZ",
      "photoUrl": "https://lh3.googleusercontent.com/a-/AOh14Ghu-OvX6osyVq8b7J4Xa7D7HiZ61sPYwKqgPxyJ=s64",
      "userId": "09506376050266996513"
     },
     "user_tz": -120
    },
    "id": "CUlwdiy5cUnR",
    "slideshow": {
     "slide_type": "slide"
    }
   },
   "outputs": [],
   "source": [
    "from sklearn.datasets import make_classification\n",
    "\n",
    "x,y = make_classification(n_samples=20, \n",
    "                          n_features=2,\n",
    "                          n_informative=2, \n",
    "                          n_redundant=0,\n",
    "                          n_repeated=0, \n",
    "                          n_classes=2, \n",
    "                          n_clusters_per_class=2,\n",
    "                          weights=None, \n",
    "                          flip_y=0.01, \n",
    "                          class_sep=1.0, \n",
    "                          hypercube=False, \n",
    "                          shift=0.0, \n",
    "                          scale=1.0, \n",
    "                          shuffle=True, \n",
    "                          random_state=42)"
   ]
  },
  {
   "cell_type": "code",
   "execution_count": null,
   "metadata": {
    "colab": {},
    "colab_type": "code",
    "executionInfo": {
     "elapsed": 2607,
     "status": "ok",
     "timestamp": 1592636001470,
     "user": {
      "displayName": "EMILIO PARRADO HERNANDEZ",
      "photoUrl": "https://lh3.googleusercontent.com/a-/AOh14Ghu-OvX6osyVq8b7J4Xa7D7HiZ61sPYwKqgPxyJ=s64",
      "userId": "09506376050266996513"
     },
     "user_tz": -120
    },
    "id": "9jJFzu2feCil",
    "slideshow": {
     "slide_type": "slide"
    }
   },
   "outputs": [],
   "source": [
    "xt = np.array([-0.2, 0.7])"
   ]
  },
  {
   "cell_type": "code",
   "execution_count": null,
   "metadata": {
    "colab": {
     "base_uri": "https://localhost:8080/",
     "height": 428
    },
    "colab_type": "code",
    "executionInfo": {
     "elapsed": 2596,
     "status": "ok",
     "timestamp": 1592636001470,
     "user": {
      "displayName": "EMILIO PARRADO HERNANDEZ",
      "photoUrl": "https://lh3.googleusercontent.com/a-/AOh14Ghu-OvX6osyVq8b7J4Xa7D7HiZ61sPYwKqgPxyJ=s64",
      "userId": "09506376050266996513"
     },
     "user_tz": -120
    },
    "id": "o8H-yWGEdTy1",
    "outputId": "5402aa99-4e34-40ad-d29d-88de20ea1e75",
    "slideshow": {
     "slide_type": "slide"
    }
   },
   "outputs": [],
   "source": [
    "def pinta_ejemplo(x,y,xt,ax):\n",
    "  ax.scatter(x[y==0,0],x[y==0,1],color='blue',marker='o')\n",
    "  ax.scatter(x[y==1,0],x[y==1,1],color='red',marker='x')\n",
    "  ax.scatter(xt[0], xt[1], marker='s', color='green')\n",
    "fx,ax = plt.subplots(1,1,figsize=(7,7))\n",
    "pinta_ejemplo(x,y,xt,ax)"
   ]
  },
  {
   "cell_type": "code",
   "execution_count": null,
   "metadata": {
    "colab": {},
    "colab_type": "code",
    "executionInfo": {
     "elapsed": 2595,
     "status": "ok",
     "timestamp": 1592636001471,
     "user": {
      "displayName": "EMILIO PARRADO HERNANDEZ",
      "photoUrl": "https://lh3.googleusercontent.com/a-/AOh14Ghu-OvX6osyVq8b7J4Xa7D7HiZ61sPYwKqgPxyJ=s64",
      "userId": "09506376050266996513"
     },
     "user_tz": -120
    },
    "id": "dFDzdi1UfTPb",
    "slideshow": {
     "slide_type": "slide"
    }
   },
   "outputs": [],
   "source": [
    "from sklearn.metrics import pairwise_distances \n",
    "distancias = pairwise_distances(xt.reshape(1,-1), x,'euclidean') \n",
    "\n",
    "# Ordenar todos los vecinos para cada observación de test\n",
    "id_vecinos = np.argsort(distancias) # indices de las observaciones de entrenamiento, ¿quién es el veino k-ésimo?\n",
    "\n",
    "sorted_distancias = 1e-6+np.sort(distancias) # distancias a los vecinos ¿qué tan lejos está el vecino k-ésimo?\n",
    "\n",
    "# clase a la que vota cada vecino\n",
    "clase_vecinos = y[id_vecinos]\n",
    "# peso con el que vota cada vecino a la clase de la observación de test\n",
    "peso_vecinos = 1./sorted_distancias\n",
    "\n"
   ]
  },
  {
   "cell_type": "code",
   "execution_count": null,
   "metadata": {
    "colab": {},
    "colab_type": "code",
    "executionInfo": {
     "elapsed": 2592,
     "status": "ok",
     "timestamp": 1592636001471,
     "user": {
      "displayName": "EMILIO PARRADO HERNANDEZ",
      "photoUrl": "https://lh3.googleusercontent.com/a-/AOh14Ghu-OvX6osyVq8b7J4Xa7D7HiZ61sPYwKqgPxyJ=s64",
      "userId": "09506376050266996513"
     },
     "user_tz": -120
    },
    "id": "EoVnEW6zlyLj",
    "slideshow": {
     "slide_type": "skip"
    }
   },
   "outputs": [],
   "source": [
    "def pinta_radios(c,x,ax):\n",
    "  for ii in range(len(x)):\n",
    "    ax.plot([c[0],x[ii,0]],\n",
    "            [c[1],x[ii,1]],\n",
    "            linestyle=':',\n",
    "            linewidth=2)\n",
    "    \n",
    "def pinta_votos(clase, peso, ax):\n",
    "  labels = ['unitario', 'ponderado']\n",
    "  k = len(clase)\n",
    "  bottom = np.zeros(2)\n",
    "  width = 0.5\n",
    "  for ii in range(k):\n",
    "    if clase[ii] == 1:\n",
    "      color = 'red'\n",
    "    else:\n",
    "      color = 'blue'\n",
    "    ax.bar(labels, [1./k, peso[ii]], \n",
    "           width=width, \n",
    "           label='vecino {0:d}'.format(ii+1),\n",
    "           bottom = bottom,\n",
    "           edgecolor='black',\n",
    "           color=color)\n",
    "    bottom += np.array([1./k, peso[ii]])"
   ]
  },
  {
   "cell_type": "code",
   "execution_count": null,
   "metadata": {
    "colab": {
     "base_uri": "https://localhost:8080/",
     "height": 1000
    },
    "colab_type": "code",
    "executionInfo": {
     "elapsed": 5457,
     "status": "ok",
     "timestamp": 1592636004345,
     "user": {
      "displayName": "EMILIO PARRADO HERNANDEZ",
      "photoUrl": "https://lh3.googleusercontent.com/a-/AOh14Ghu-OvX6osyVq8b7J4Xa7D7HiZ61sPYwKqgPxyJ=s64",
      "userId": "09506376050266996513"
     },
     "user_tz": -120
    },
    "id": "yT-cuZPbkrYK",
    "outputId": "b99ac0e1-6dd0-43d9-8277-ce94cf3e97a6",
    "slideshow": {
     "slide_type": "slide"
    }
   },
   "outputs": [],
   "source": [
    "v_k = np.array([1,2,4,8])\n",
    "ii=7\n",
    "fx,ax = plt.subplots(len(v_k),2,figsize=(2*ii,len(v_k)*ii))\n",
    "for ik,kk in enumerate(v_k):\n",
    "  ax[ik][0].set_title('k = {0:d} vecinos'.format(kk))\n",
    "  ax[ik][1].set_title('votos de los {0:d} vecinos'.format(kk))\n",
    "  pinta_ejemplo(x,y,xt,ax[ik][0]) \n",
    "  pinta_radios(xt,np.array([x[cc,:] for cc in id_vecinos[0,:kk]]),ax[ik][0])\n",
    "  pinta_votos(clase_vecinos[0,:kk], peso_vecinos[0,:kk]/np.sum(peso_vecinos[0,:kk]), ax[ik][1])"
   ]
  },
  {
   "cell_type": "markdown",
   "metadata": {
    "colab_type": "text",
    "id": "LZAyM0Hscst-",
    "slideshow": {
     "slide_type": "slide"
    }
   },
   "source": [
    "# Problema de clasificación para esta sesión: spam detection\n",
    "\n",
    "## Repositorio de bases de datos de UCI\n",
    "Es uno de los problemas clásicos del [UC Irvine Machine Learning Repository](http://archive.ics.uci.edu/ml/index.php). En general la manera de comparar las prestaciones de algoritmos de aprendizaje es evaluar su capacidad para construir modelos en problemas *benchmark*. Existe otra aproximación, el campo de *Statistical Learning Theory* (SLT), que trata de analizar estos comportamientos mediante cotas en la capacidad de generalización de estos algoritmos, al estilo de las cotas de Shannon en Teoría de la Información. A efectos prácticos, si bien la aproximación SLT parece más robusta, la experiencia real es que las estimaciones de prestaciones basadas en *benchmarks* se parecen más a lo que experimentan los usuarios de estos algoritmos al ponerlos en práctica con datos reales.\n",
    "\n",
    "El repositorio de bases de datos de UCI es uno de los más empleados en el diseño de algoritmos de propósito general y en los programas de formación de científicos de datos, ya que abarca problemas supervisados y no supervisados de muy diversa índole y permite adquirir intuiciones acerca del funcionamiento de estos algoritmos en situaciones diversas.\n",
    "\n",
    "<img src='http://www.tsc.uc3m.es/~emipar/BBVA/INTRO/img/logo_uc3m_foot.jpg' width=400 />\n"
   ]
  },
  {
   "cell_type": "markdown",
   "metadata": {
    "colab_type": "text",
    "id": "3rGbsKyJcst-",
    "slideshow": {
     "slide_type": "slide"
    }
   },
   "source": [
    "## Spam detection database\n",
    "- 4601 observaciones (1813 spam, 39.4%)\n",
    "- target binario: spam ($y=1$) o no spam ($y=0$)\n",
    "- No disponemos de los textos, las observaciones están formadas por 57 variables continuas\n",
    "  - 48 variables reales continuas en el intervalo [0,100] *word_freq_WORD*: frecuencia de aparición de la palabra *WORD* en el correo (en porcentaje)\n",
    "  - 6 variables reales continuas en el intervalo [0,100] *char_freq_CHAR*: frecuencia de aparición del caracter *CHAR* en el correo (porcentaje)\n",
    "  - 1 variable real continua: longitud promedio de secuencias de caracteres en mayúscula ininterrumpidos\n",
    "  - 1 variable entera continua: longitud de la secuencia de mayúsculas ininterrumpida más larga\n",
    "  - 1 variable entera continua: número total de mayúsculas en el correo\n",
    "  \n",
    "<img src='http://www.tsc.uc3m.es/~emipar/BBVA/INTRO/img/logo_uc3m_foot.jpg' width=400 />\n"
   ]
  },
  {
   "cell_type": "markdown",
   "metadata": {
    "colab_type": "text",
    "id": "k0ETA_bRtC-r",
    "slideshow": {
     "slide_type": "slide"
    }
   },
   "source": [
    "### Consideraciones sobre la base de datos\n",
    "- La base es de junio-julio de 1999\n",
    "  - El NLP no estaba tan desarrollado como ahora, \n",
    "    - Los correos electrónicos eran básicamente texto ASCII\n",
    "    - así que buscan estadísticos sobre repeticiones de palabras y caracteres de puntuación.\n",
    "- El dueño de la base de datos se llama George\n",
    "- Trabajan en Hewlett Packard\n",
    "  - Pueden buscar códigos de área y palabras clave dentro de la organización y de los contactos y/o proyectos de George\n",
    "  \n",
    "<img src='http://www.tsc.uc3m.es/~emipar/BBVA/INTRO/img/logo_uc3m_foot.jpg' width=400 />\n"
   ]
  },
  {
   "cell_type": "markdown",
   "metadata": {
    "colab_type": "text",
    "id": "hQyS7-Kzcst-"
   },
   "source": [
    "## Proceso de carga de datos\n",
    "Pasos que tenemos que dar hasta poder emplear el algoritmo de entrenamiento\n",
    "1. Leer los datos\n",
    "2. Separar observaciones de *targets*\n",
    "3. Dividir entre conjunto de entrenamiento y conjunto de test\n",
    "\n",
    "<img src='http://www.tsc.uc3m.es/~emipar/BBVA/INTRO/img/logo_uc3m_foot.jpg' width=400 />\n"
   ]
  },
  {
   "cell_type": "markdown",
   "metadata": {
    "colab_type": "text",
    "id": "9A6S90xBcst_"
   },
   "source": [
    "### 1. Lectura de los datos\n",
    "- Importar los datos desde disco. \n",
    "- En este caso es un csv, con lo que lo cargaremos en **pandas** para poder ver alguna descripción de las observaciones\n",
    "\n",
    "<img src='http://www.tsc.uc3m.es/~emipar/BBVA/INTRO/img/logo_uc3m_foot.jpg' width=400 />\n"
   ]
  },
  {
   "cell_type": "code",
   "execution_count": null,
   "metadata": {
    "colab": {
     "base_uri": "https://localhost:8080/",
     "height": 274
    },
    "colab_type": "code",
    "executionInfo": {
     "elapsed": 6502,
     "status": "ok",
     "timestamp": 1592636005399,
     "user": {
      "displayName": "EMILIO PARRADO HERNANDEZ",
      "photoUrl": "https://lh3.googleusercontent.com/a-/AOh14Ghu-OvX6osyVq8b7J4Xa7D7HiZ61sPYwKqgPxyJ=s64",
      "userId": "09506376050266996513"
     },
     "user_tz": -120
    },
    "id": "aIgJdjQGcst_",
    "outputId": "8b2d840a-8bf0-4a41-f9e5-55548c3ee616"
   },
   "outputs": [],
   "source": [
    "data = load_spam()\n",
    "print(\"Cargadas {0:d} observaciones con {1:d} columnas\\n\".format(len(data), len(data.columns)))\n",
    "print(\"Ejemplos\")\n",
    "data.tail()"
   ]
  },
  {
   "cell_type": "code",
   "execution_count": null,
   "metadata": {
    "colab": {
     "base_uri": "https://localhost:8080/",
     "height": 314
    },
    "colab_type": "code",
    "executionInfo": {
     "elapsed": 6494,
     "status": "ok",
     "timestamp": 1592636005399,
     "user": {
      "displayName": "EMILIO PARRADO HERNANDEZ",
      "photoUrl": "https://lh3.googleusercontent.com/a-/AOh14Ghu-OvX6osyVq8b7J4Xa7D7HiZ61sPYwKqgPxyJ=s64",
      "userId": "09506376050266996513"
     },
     "user_tz": -120
    },
    "id": "oEpqPlEocsuC",
    "outputId": "5c5d64fa-bbd1-4b41-947e-62f7422a3d9a"
   },
   "outputs": [],
   "source": [
    "data.describe()"
   ]
  },
  {
   "cell_type": "markdown",
   "metadata": {
    "colab_type": "text",
    "id": "RUJKv1BXcsuE",
    "slideshow": {
     "slide_type": "slide"
    }
   },
   "source": [
    "### 2. Separar observaciones de *targets*\n",
    "Leyendo la documentación de la base de datos vemos que el *target* es la última columna de cada registro de la tabla.\n",
    "\n",
    "<img src='http://www.tsc.uc3m.es/~emipar/BBVA/INTRO/img/logo_uc3m_foot.jpg' width=400 />\n"
   ]
  },
  {
   "cell_type": "code",
   "execution_count": null,
   "metadata": {
    "colab": {
     "base_uri": "https://localhost:8080/",
     "height": 87
    },
    "colab_type": "code",
    "executionInfo": {
     "elapsed": 6486,
     "status": "ok",
     "timestamp": 1592636005400,
     "user": {
      "displayName": "EMILIO PARRADO HERNANDEZ",
      "photoUrl": "https://lh3.googleusercontent.com/a-/AOh14Ghu-OvX6osyVq8b7J4Xa7D7HiZ61sPYwKqgPxyJ=s64",
      "userId": "09506376050266996513"
     },
     "user_tz": -120
    },
    "id": "ubdtyaPEcsuF",
    "outputId": "575bc8fd-d390-453e-c432-232d0fcff01d",
    "slideshow": {
     "slide_type": "slide"
    }
   },
   "outputs": [],
   "source": [
    "X = data[data.columns[:57]].values\n",
    "Y = data['target'].values\n",
    "print(\"{0:d} observaciones con {1:d} columnas\".format(X.shape[0], X.shape[1]))\n",
    "print(\"{0:d} targets\".format(len(Y)))\n",
    "print(\"Valores de los targets:\")\n",
    "print(np.unique(Y))"
   ]
  },
  {
   "cell_type": "markdown",
   "metadata": {
    "colab_type": "text",
    "id": "mqUM2rdPcsuH",
    "slideshow": {
     "slide_type": "slide"
    }
   },
   "source": [
    "### 3. Dividir entre conjunto de entrenamiento y conjunto de test\n",
    "El éxito de un modelo de aprendizaje automático se mide en su capacidad de generalización procesando datos que no fueron empleados durante el entrenamiento. Para ello necesitamos disponer de dos conjuntos disjuntos de datos:\n",
    "- el **conjunto de entrenamiento**, que son las observaciones que se le pasan al **algoritmo de entrenamiento** (al método `fit`) para que éste optimice el modelo\n",
    "- el **conjunto de test**, es un conjunto separado que se procesa con el **modelo  ya entrenado** y que usamos para medir la **capacidad de generalización** (con el método `score`)). Un modelo generaliza bien cuando las prestaciones que se obtienen en el conjunto de test no son muy diferentes de las que se obtienen en el conjunto de entrenamiento.\n",
    "\n",
    "<img src='http://www.tsc.uc3m.es/~emipar/BBVA/INTRO/img/logo_uc3m_foot.jpg' width=400 />\n",
    "\n"
   ]
  },
  {
   "cell_type": "markdown",
   "metadata": {
    "colab_type": "text",
    "id": "ecsViB5IcsuH",
    "slideshow": {
     "slide_type": "subslide"
    }
   },
   "source": [
    "En cualquier caso no conviene perder de vista que:\n",
    "- **el conjunto de test sólo es un conjunto más**, es decir, que cuando eventualmente pongamos el modelo **en producción** vamos a tener que seguir monitorizando la generalización con los conjuntos de datos de test que estemos recibiendo (cada día, cada hora, cada semana, etc)\n",
    "- A veces cuando refinamos un modelo **tomamos decisiones de diseño en función de las prestaciones que se alcanzan en el conjunto de test**. Esta práctica demasiado habitual introduce sesgos en la estimación de las prestaciones reales del modelo porque estamos **realimentando información del test** al entrenamiento del modelo. De algún modo es como si el test estuviese participando del entrenamiento, luego no se puede asegurar 100% que el conjunto de test sea independiente.\n",
    "\n",
    "<img src='http://www.tsc.uc3m.es/~emipar/BBVA/INTRO/img/logo_uc3m_foot.jpg' width=400 />\n"
   ]
  },
  {
   "cell_type": "markdown",
   "metadata": {
    "colab_type": "text",
    "id": "DnQTLwhFcsuI",
    "slideshow": {
     "slide_type": "subslide"
    }
   },
   "source": [
    "En algunas bases de datos esta división viene hecha o sale de un modo natural, por ejemplo si las observaciones siguen un orden temporal (entrenar con datos obtenidos hasta una fecha y hacer el test con los datos obtenidos a partir de esa fecha). \n",
    "\n",
    "Para las situaciones en las que la división no viene hecha lo más habitual suele ser dejar más datos para entrenar que para testear, ya que el modelo que vaya a producción se va a entrenar con todos los datos disponibles:\n",
    "- 50% entrenamiento, 50% test\n",
    "- 70% entrenamiento, 30% test\n",
    "- 80% entrenamiento, 20% test\n",
    "\n",
    "<img src='http://www.tsc.uc3m.es/~emipar/BBVA/INTRO/img/logo_uc3m_foot.jpg' width=400 />\n",
    "\n"
   ]
  },
  {
   "cell_type": "markdown",
   "metadata": {
    "colab_type": "text",
    "id": "UEwKjavYcsuI",
    "slideshow": {
     "slide_type": "slide"
    }
   },
   "source": [
    "Existen maneras más fiables de estimar la capacidad de generalización que el empleo de un único conjunto de test. La más utilizada en la práctica es **validación cruzada**, que revisaremos en la próxima sesión.\n",
    "\n",
    "<img src='http://www.tsc.uc3m.es/~emipar/BBVA/INTRO/img/logo_uc3m_foot.jpg' width=400 />\n"
   ]
  },
  {
   "cell_type": "code",
   "execution_count": null,
   "metadata": {
    "colab": {},
    "colab_type": "code",
    "executionInfo": {
     "elapsed": 6485,
     "status": "ok",
     "timestamp": 1592636005401,
     "user": {
      "displayName": "EMILIO PARRADO HERNANDEZ",
      "photoUrl": "https://lh3.googleusercontent.com/a-/AOh14Ghu-OvX6osyVq8b7J4Xa7D7HiZ61sPYwKqgPxyJ=s64",
      "userId": "09506376050266996513"
     },
     "user_tz": -120
    },
    "id": "lDHXxMfIcsuJ"
   },
   "outputs": [],
   "source": [
    "from sklearn.model_selection import train_test_split\n",
    "x_train, x_test, y_train, y_test = train_test_split(X, # observaciones\n",
    "                                                    Y, # targets alineados con las observaciones\n",
    "                                                    test_size=0.3, # ratio de observaciones que se van al conjunto de test,\n",
    "                                                    random_state=42) # estado del generador de números aleatorios"
   ]
  },
  {
   "cell_type": "markdown",
   "metadata": {
    "colab_type": "text",
    "id": "1X1qK-dPcsuK",
    "slideshow": {
     "slide_type": "slide"
    }
   },
   "source": [
    "## Entrenamiento y validación del modelo\n",
    "Vamos a emplear la implementación de [*kNN*](https://scikit-learn.org/stable/modules/generated/sklearn.neighbors.KNeighborsClassifier.html) contenida en el módulo [**sklearn**](https://scikit-learn.org/stable/) de python. El módulo sklearn contiene implementaciones de una gran variedad de algoritmos de aprendizaje automático, y la manera de consumirlas es la misma.\n",
    "Todas las implementaciones tienen tres métodos fundamentales:\n",
    "- `fit`: Entrenamiento del modelo. En los algoritmos de aprendizaje supervisado los argumentos son un array de `numpy` con las observaciones, una observación en cada **fila** y un array con los targets\n",
    "- `predict`: Explotar el modelo. El argumento es un `numpy array` con las observaciones del conjunto de test. La salida es el target estimado para cada fila del argumento de entrada\n",
    "- `score`: Evaluar el modelo. Cada modelo tiene una función de *score* particular, que es el estadístico que se calcula sobre las  predicciones hechas para el conjunto de test y nos cuantifica la calidad de estas predicciones. En un problema de clasificación se emplea la **tasa de aciertos**, es decir la fracción de las observaciones de test para las que el modelo ha encontrado la predicción correcta. Los argumentos para invocar el método `score` son las observaciones de test y los target verdaderos de test, a fin de poder medir estadísticos sobre las predicciones hechas por el modelo y estos *targets* reales.\n",
    "\n",
    "<img src='http://www.tsc.uc3m.es/~emipar/BBVA/INTRO/img/logo_uc3m_foot.jpg' width=400 />\n"
   ]
  },
  {
   "cell_type": "code",
   "execution_count": null,
   "metadata": {
    "colab": {
     "base_uri": "https://localhost:8080/",
     "height": 52
    },
    "colab_type": "code",
    "executionInfo": {
     "elapsed": 6995,
     "status": "ok",
     "timestamp": 1592636005918,
     "user": {
      "displayName": "EMILIO PARRADO HERNANDEZ",
      "photoUrl": "https://lh3.googleusercontent.com/a-/AOh14Ghu-OvX6osyVq8b7J4Xa7D7HiZ61sPYwKqgPxyJ=s64",
      "userId": "09506376050266996513"
     },
     "user_tz": -120
    },
    "id": "j5qnMe8UcsuL",
    "outputId": "d6377978-1521-4ee4-a93c-108961199f15",
    "slideshow": {
     "slide_type": "slide"
    }
   },
   "outputs": [],
   "source": [
    "from sklearn.neighbors import KNeighborsClassifier\n",
    "\n",
    "n_neighbors = 3\n",
    "knn = KNeighborsClassifier(n_neighbors=n_neighbors) # instanciar el objeto con hiperparámetros\n",
    "knn.fit(x_train, y_train) # entrenar\n",
    "acierto_entrenamiento = knn.score(x_train, y_train)\n",
    "acierto_test = knn.score(x_test, y_test) # evaluar el modelo entrenado\n",
    "print(\"Acierto en el conjunto de entrenamiento: {0:.2f}%\".format(acierto_entrenamiento*100.))\n",
    "print(\"Acierto en el conjunto de test: {0:.2f}%\".format(acierto_test*100.))"
   ]
  },
  {
   "cell_type": "code",
   "execution_count": null,
   "metadata": {},
   "outputs": [],
   "source": [
    "knn.predict(x_train)"
   ]
  },
  {
   "cell_type": "markdown",
   "metadata": {
    "colab_type": "text",
    "id": "wfB5bfv6csuN",
    "slideshow": {
     "slide_type": "slide"
    }
   },
   "source": [
    "### Primera valoración de los resultados\n",
    "En primer lugar tenemos que comparar los resultados con un *baseline* trivial. Sería un valor que conseguiríamos sin ningún esfuerzo (sin entrenar). En este caso hay un clasificador que nos garantiza un acierto de en torno al 60%: decir que todos los correos son **no spam**"
   ]
  },
  {
   "cell_type": "code",
   "execution_count": null,
   "metadata": {
    "colab": {},
    "colab_type": "code",
    "executionInfo": {
     "elapsed": 6991,
     "status": "ok",
     "timestamp": 1592636005918,
     "user": {
      "displayName": "EMILIO PARRADO HERNANDEZ",
      "photoUrl": "https://lh3.googleusercontent.com/a-/AOh14Ghu-OvX6osyVq8b7J4Xa7D7HiZ61sPYwKqgPxyJ=s64",
      "userId": "09506376050266996513"
     },
     "user_tz": -120
    },
    "id": "5TNowgabcsuN"
   },
   "outputs": [],
   "source": [
    "baseline = max((1-np.mean(y_test)), np.mean(y_test))\n",
    "baseline_spam = baseline\n",
    "print(\"Acierto del baseline en el conjunto de test: {0:.2f}%\".format(baseline*100.))"
   ]
  },
  {
   "cell_type": "markdown",
   "metadata": {
    "colab_type": "text",
    "id": "vOFURW7FcsuP",
    "slideshow": {
     "slide_type": "slide"
    }
   },
   "source": [
    "## Disección de los resultados\n",
    "Vamos a repasar las condiciones en las que hemos hecho el entrenamiento del modelo y a valorar el impacto de cada una de las decisiones que podemos cambiar para condicionar el entrenamiento\n"
   ]
  },
  {
   "cell_type": "markdown",
   "metadata": {
    "colab_type": "text",
    "id": "EqsRcaeNcsuQ",
    "slideshow": {
     "slide_type": "slide"
    }
   },
   "source": [
    "### Impacto del número de vecinos\n"
   ]
  },
  {
   "cell_type": "code",
   "execution_count": null,
   "metadata": {
    "colab": {
     "base_uri": "https://localhost:8080/",
     "height": 278
    },
    "colab_type": "code",
    "executionInfo": {
     "elapsed": 13981,
     "status": "ok",
     "timestamp": 1592636012917,
     "user": {
      "displayName": "EMILIO PARRADO HERNANDEZ",
      "photoUrl": "https://lh3.googleusercontent.com/a-/AOh14Ghu-OvX6osyVq8b7J4Xa7D7HiZ61sPYwKqgPxyJ=s64",
      "userId": "09506376050266996513"
     },
     "user_tz": -120
    },
    "id": "C0kmlS29csuQ",
    "outputId": "ab956cd1-c796-45ed-e3b1-9c94edf17633"
   },
   "outputs": [],
   "source": [
    "v_nn = [1,2,3,4,5,6,7,8,9,10,20,30,40,50,60,70,80,90,100]\n",
    "ac_entr = np.empty(len(v_nn))\n",
    "ac_test = np.empty(len(v_nn))\n",
    "for inn, n_neighbors in enumerate(v_nn):\n",
    "    knn = KNeighborsClassifier(n_neighbors=n_neighbors)\n",
    "    knn.fit(x_train, y_train)\n",
    "    ac_entr[inn] = knn.score(x_train, y_train)\n",
    "    ac_test[inn] = knn.score(x_test, y_test)\n"
   ]
  },
  {
   "cell_type": "code",
   "execution_count": null,
   "metadata": {},
   "outputs": [],
   "source": [
    "plt.figure(figsize=(8,6))\n",
    "plt.plot(v_nn, ac_entr*100, linewidth=2, label='acierto entrenamiento')\n",
    "plt.plot(v_nn, ac_test*100, linewidth=2,label='acierto test')\n",
    "plt.plot(v_nn, np.ones(len(v_nn)) * baseline * 100., linewidth=2,label='baseline')\n",
    "_ = plt.xlabel('Num vecinos')\n",
    "_ = plt.ylabel('Acierto (%)')\n",
    "_ = plt.legend()\n",
    "plt.grid()"
   ]
  },
  {
   "cell_type": "code",
   "execution_count": null,
   "metadata": {
    "colab": {
     "base_uri": "https://localhost:8080/",
     "height": 35
    },
    "colab_type": "code",
    "executionInfo": {
     "elapsed": 13974,
     "status": "ok",
     "timestamp": 1592636012918,
     "user": {
      "displayName": "EMILIO PARRADO HERNANDEZ",
      "photoUrl": "https://lh3.googleusercontent.com/a-/AOh14Ghu-OvX6osyVq8b7J4Xa7D7HiZ61sPYwKqgPxyJ=s64",
      "userId": "09506376050266996513"
     },
     "user_tz": -120
    },
    "id": "-MbGa808csuS",
    "outputId": "dc74c47f-b5f3-4bc3-fedd-07c09d6e3592"
   },
   "outputs": [],
   "source": [
    "best_k = v_nn[np.argmax(ac_test)]\n",
    "print(\"El numero de vecinos que da el mejor resultado en test es {0:d}, acierto del  {1:.2f}%\".format(best_k, \n",
    "                                                                                                     100.*np.max(ac_test)))\n",
    "acierto_spam_knn = 100.*np.max(ac_test)"
   ]
  },
  {
   "cell_type": "markdown",
   "metadata": {
    "colab_type": "text",
    "id": "TQueHPKGxyEx",
    "slideshow": {
     "slide_type": "slide"
    }
   },
   "source": [
    "### Ponderar el voto de cada vecino por su distancia"
   ]
  },
  {
   "cell_type": "code",
   "execution_count": null,
   "metadata": {
    "colab": {
     "base_uri": "https://localhost:8080/",
     "height": 278
    },
    "colab_type": "code",
    "executionInfo": {
     "elapsed": 18471,
     "status": "ok",
     "timestamp": 1592636017423,
     "user": {
      "displayName": "EMILIO PARRADO HERNANDEZ",
      "photoUrl": "https://lh3.googleusercontent.com/a-/AOh14Ghu-OvX6osyVq8b7J4Xa7D7HiZ61sPYwKqgPxyJ=s64",
      "userId": "09506376050266996513"
     },
     "user_tz": -120
    },
    "id": "cVH4_hq_csuU",
    "outputId": "cf21a128-a24f-4db3-c2b2-8e1a83bd8edb"
   },
   "outputs": [],
   "source": [
    "##\n",
    "##\n",
    "##\n",
    "##\n",
    "##\n",
    "ac_entr_w = np.empty(len(v_nn))\n",
    "ac_test_w = np.empty(len(v_nn))\n",
    "for inn, n_neighbors in enumerate(v_nn):\n",
    "    knn = KNeighborsClassifier(n_neighbors=n_neighbors,\n",
    "                              weights='distance')\n",
    "    knn.fit(x_train, y_train)\n",
    "    ac_entr_w[inn] = knn.score(x_train, y_train)\n",
    "    ac_test_w[inn] = knn.score(x_test, y_test)\n"
   ]
  },
  {
   "cell_type": "code",
   "execution_count": null,
   "metadata": {},
   "outputs": [],
   "source": [
    "plt.figure(figsize=(8,6))\n",
    "plt.plot(v_nn, ac_entr_w*100, linewidth=2, label='acierto entrenamiento')\n",
    "plt.plot(v_nn, ac_test_w*100, linewidth=2,label='acierto test')\n",
    "plt.plot(v_nn, np.ones(len(v_nn)) * baseline* 100., linewidth=2,label='baseline')\n",
    "_ = plt.xlabel('Num vecinos')\n",
    "_ = plt.ylabel('Acierto (%)')\n",
    "_ = plt.legend()\n",
    "plt.grid()"
   ]
  },
  {
   "cell_type": "code",
   "execution_count": null,
   "metadata": {
    "colab": {
     "base_uri": "https://localhost:8080/",
     "height": 35
    },
    "colab_type": "code",
    "executionInfo": {
     "elapsed": 18464,
     "status": "ok",
     "timestamp": 1592636017424,
     "user": {
      "displayName": "EMILIO PARRADO HERNANDEZ",
      "photoUrl": "https://lh3.googleusercontent.com/a-/AOh14Ghu-OvX6osyVq8b7J4Xa7D7HiZ61sPYwKqgPxyJ=s64",
      "userId": "09506376050266996513"
     },
     "user_tz": -120
    },
    "id": "TlLFq858csuW",
    "outputId": "f4e85984-c810-4877-83f9-33721dffe072"
   },
   "outputs": [],
   "source": [
    "best_k = v_nn[np.argmax(ac_test_w)]\n",
    "print(\"El número de vecinos que da el mejor resultado en test si ponderamos por distancias es {0:d}, acierto del  {1:.2f}%\".format(best_k, \n",
    "                                                                                                     100.*np.max(ac_test_w)))\n",
    "acierto_spam_knn_w = 100.*np.max(ac_test_w)\n"
   ]
  },
  {
   "cell_type": "markdown",
   "metadata": {
    "colab_type": "text",
    "id": "k3fSTt3pcsuY",
    "slideshow": {
     "slide_type": "slide"
    }
   },
   "source": [
    "### Bolas o vecinos\n",
    "\n",
    "Los modelos basados en vecinos asumen que la **densidad** de observaciones es más o menos uniforme en todo el espacio donde residen las observaciones. En problemas con densidades muy variables, las distancias entre cada observación de test sus vecinos correspondientes pueden ser muy diversas con lo que cada decisión tiene en cuenta un concepto de \"localización\" diferente.\n",
    "\n",
    "El siguiente código calcula la clasificación kNN con voto ponderado para todo el conjunto de test y para cualquier valor de $k$ desde 1 hasta el tamaño del conjunto de entrenamiento. Este código sólo funciona para valores razonablemente pequeños de tamaños de conjunto de entrenamiento. Saber desarrollar este código no es objetivo de este curso, está aquí para justificar intuitivamente cómo podemos encontrar pistas para intentar mejorar las prestaciones del kNN.\n",
    "\n",
    "<img src='http://www.tsc.uc3m.es/~emipar/BBVA/INTRO/img/logo_uc3m_foot.jpg' width=400 />\n"
   ]
  },
  {
   "cell_type": "markdown",
   "metadata": {
    "colab_type": "text",
    "id": "eWAouc-AzUub",
    "slideshow": {
     "slide_type": "slide"
    }
   },
   "source": [
    "Podemos ilustrar ese efecto con el *toy problem* eligiendo una muestra de test más aislada."
   ]
  },
  {
   "cell_type": "code",
   "execution_count": null,
   "metadata": {
    "colab": {
     "base_uri": "https://localhost:8080/",
     "height": 428
    },
    "colab_type": "code",
    "executionInfo": {
     "elapsed": 18456,
     "status": "ok",
     "timestamp": 1592636017425,
     "user": {
      "displayName": "EMILIO PARRADO HERNANDEZ",
      "photoUrl": "https://lh3.googleusercontent.com/a-/AOh14Ghu-OvX6osyVq8b7J4Xa7D7HiZ61sPYwKqgPxyJ=s64",
      "userId": "09506376050266996513"
     },
     "user_tz": -120
    },
    "id": "zfhquGstzhoO",
    "outputId": "81ae9ba6-51df-43f0-da45-b0d520af6b7a"
   },
   "outputs": [],
   "source": [
    "xt = np.array([-0.2, -1])\n",
    "fx,ax = plt.subplots(1,1,figsize=(7,7))\n",
    "pinta_ejemplo(x,y,xt,ax)"
   ]
  },
  {
   "cell_type": "code",
   "execution_count": null,
   "metadata": {
    "colab": {
     "base_uri": "https://localhost:8080/",
     "height": 1000
    },
    "colab_type": "code",
    "executionInfo": {
     "elapsed": 21277,
     "status": "ok",
     "timestamp": 1592636020254,
     "user": {
      "displayName": "EMILIO PARRADO HERNANDEZ",
      "photoUrl": "https://lh3.googleusercontent.com/a-/AOh14Ghu-OvX6osyVq8b7J4Xa7D7HiZ61sPYwKqgPxyJ=s64",
      "userId": "09506376050266996513"
     },
     "user_tz": -120
    },
    "id": "R9_ielJPz5_i",
    "outputId": "fda51de0-bf46-4f8b-bae4-e670298ee1ce"
   },
   "outputs": [],
   "source": [
    "distancias = pairwise_distances(xt.reshape(1,-1), x,'euclidean') \n",
    "\n",
    "# Ordenar todos los vecinos para cada observación de test\n",
    "id_vecinos = np.argsort(distancias) # indices de las observaciones de entrenamiento, ¿quién es el veino k-ésimo?\n",
    "\n",
    "sorted_distancias = 1e-6+np.sort(distancias) # distancias a los vecinos ¿qué tan lejos está el vecino k-ésimo?\n",
    "\n",
    "# clase a la que vota cada vecino\n",
    "clase_vecinos = y[id_vecinos]\n",
    "# peso con el que vota cada vecino a cada observación de test\n",
    "peso_vecinos = 1./sorted_distancias\n",
    "v_k = np.array([1,2,4,8])\n",
    "ii=7\n",
    "fx,ax = plt.subplots(len(v_k),2,figsize=(2*ii,len(v_k)*ii))\n",
    "for ik,kk in enumerate(v_k):\n",
    "  pinta_ejemplo(x,y,xt,ax[ik][0]) \n",
    "  pinta_radios(xt,np.array([x[cc,:] for cc in id_vecinos[0,:kk]]),ax[ik][0])\n",
    "  pinta_votos(clase_vecinos[0,:kk], peso_vecinos[0,:kk]/np.sum(peso_vecinos[0,:kk]), ax[ik][1])"
   ]
  },
  {
   "cell_type": "markdown",
   "metadata": {
    "colab_type": "text",
    "id": "Ejf5gi5x0da3"
   },
   "source": [
    "Volvemos al problema de detección de spam"
   ]
  },
  {
   "cell_type": "code",
   "execution_count": null,
   "metadata": {
    "colab": {},
    "colab_type": "code",
    "executionInfo": {
     "elapsed": 21274,
     "status": "ok",
     "timestamp": 1592636020254,
     "user": {
      "displayName": "EMILIO PARRADO HERNANDEZ",
      "photoUrl": "https://lh3.googleusercontent.com/a-/AOh14Ghu-OvX6osyVq8b7J4Xa7D7HiZ61sPYwKqgPxyJ=s64",
      "userId": "09506376050266996513"
     },
     "user_tz": -120
    },
    "id": "wKO3OphScsuY"
   },
   "outputs": [],
   "source": [
    "# calcular todos los pares de distancias entre observaciones de entenamiento y de test\n",
    "\n",
    "A = pairwise_distances(x_test, x_train,'euclidean') \n",
    "\n",
    "# Ordenar todos los vecinos para cada observación de test\n",
    "id_vecinos = np.argsort(A, axis=1) # indices de las observaciones de entrenamiento, ¿quién es el veino k-ésimo?\n",
    "sorted_A = 1e-6+np.sort(A, axis=1) # distancias a los vecinos ¿qué tan lejos está el vecino k-ésimo?\n",
    "\n",
    "# clase a la que vota cada vecino\n",
    "clase_vecinos = np.vstack([y_train[id_vecinos[tt,:]] for tt in range(len(y_test))])\n",
    "\n",
    "# peso con el que vota cada vecino a cada observación de test\n",
    "peso_vecinos = 1./sorted_A\n",
    "\n",
    "# denominadores para normalizar las sumas de votos\n",
    "cumsum_peso_vecinos = np.cumsum(peso_vecinos, axis=1)\n",
    "\n",
    "# resultados de las votaciones para cada observación de test y valor de k\n",
    "knn_votos = np.cumsum(clase_vecinos * peso_vecinos, axis=1) / cumsum_peso_vecinos\n",
    "\n",
    "# traducción de las votaciones en clasificación. En caso de empate (votación da 0.5) se resuelve hacia la clase 1\n",
    "knn_clasificacion = np.zeros(A.shape, dtype=int)\n",
    "knn_clasificacion[knn_votos >= 0.5] = 1"
   ]
  },
  {
   "cell_type": "markdown",
   "metadata": {
    "colab_type": "text",
    "id": "-OJ8-AQfcsua"
   },
   "source": [
    "La siguiente figura representa la calidad de las predicciones de *kNN* en función de cómo de cerca estén los $k$ vecinos de la observación de test correspondiente. Los radios de las vecindades se han discretizado en 50 bins con escala logarítmica. Cada bin de radios discretizados se representa con un círculo en el la columna de la derecha. El tamaño del círculo es proporcional al número de observaciones del conjunto de test que se han clasificado con un radio de vecindad que cae dentro del bin (este número es la altura del bin en el histograma de la izquierda).\n",
    "\n",
    "Vemos claramente cómo al aumentar el radio de la vecindad, para un mismo número de vecinos, las prestaciones del *kNN* se degradan porque ciertamente se diluye la asunción de que los vecinos están cerca de la observación de test."
   ]
  },
  {
   "cell_type": "code",
   "execution_count": null,
   "metadata": {
    "colab": {
     "base_uri": "https://localhost:8080/",
     "height": 869
    },
    "colab_type": "code",
    "executionInfo": {
     "elapsed": 26804,
     "status": "ok",
     "timestamp": 1592636025792,
     "user": {
      "displayName": "EMILIO PARRADO HERNANDEZ",
      "photoUrl": "https://lh3.googleusercontent.com/a-/AOh14Ghu-OvX6osyVq8b7J4Xa7D7HiZ61sPYwKqgPxyJ=s64",
      "userId": "09506376050266996513"
     },
     "user_tz": -120
    },
    "id": "250fdmu2csub",
    "outputId": "f5cf60e2-9ed3-4d77-be51-c06c5cdb7e66"
   },
   "outputs": [],
   "source": [
    "v_k=[1, 3, 5, 10]\n",
    "ff,aa = plt.subplots(len(v_k), 2, sharex='row', sharey='col', figsize=(10,12))\n",
    "bins=50\n",
    "for ik, k in enumerate(v_k):\n",
    "    radios = sorted_A[:,k]\n",
    "    y_pred = knn_clasificacion[:,k]\n",
    "    acierto = y_pred==y_test\n",
    "    logbins = np.logspace(0,np.log10(np.max(radios)+1),(bins))\n",
    "    aa[ik][0].hist(radios, logbins)\n",
    "    aa[ik][0].set_xscale('log')\n",
    "    aa[ik][0].set_title('histograma de radios de vecindad, k={0:d}'.format(k))\n",
    "    \n",
    "    id_bin = np.digitize(radios, logbins)\n",
    "    prob_acierto_radio = np.empty(len(logbins))\n",
    "    tamanno = np.empty(bins)\n",
    "    for ii in range(bins):\n",
    "        cuales = np.where(id_bin == ii)[0]\n",
    "        if len(cuales)<2:\n",
    "            continue\n",
    "        tamanno[ii] = len(cuales)\n",
    "        prob_acierto_radio[ii] = np.mean(acierto[cuales])\n",
    "    \n",
    "    aa[ik][1].scatter(logbins, prob_acierto_radio,s=10*tamanno, alpha=0.3)\n",
    "    aa[ik][1].set_title('Probabilidad de acertar')\n",
    "    aa[ik][1].set_xlabel('radio de vecindad')\n",
    "    aa[ik][1].grid\n",
    "ff.tight_layout()"
   ]
  },
  {
   "cell_type": "markdown",
   "metadata": {
    "colab_type": "text",
    "id": "p310kyTIcsuc",
    "slideshow": {
     "slide_type": "slide"
    }
   },
   "source": [
    "En sklearn disponemos de una alternativa a *kNN* que nos permite definir la vecindad de cada observación de test en función de un radio: `sklearn.neighbors.RadiusNeighborsClassifier`. Existen dos diferencias fundamentales con respecto a *kNN*:\n",
    "1. El radio no te garantiza que la vecindad no esté vacía: `outlier_label` se encarga de gestionar a esas observaciones tristes y solitarias\n",
    "2. El tiempo de ejecución es sensiblemente mayor para RadiusNeighborsClassifier"
   ]
  },
  {
   "cell_type": "code",
   "execution_count": null,
   "metadata": {
    "colab": {
     "base_uri": "https://localhost:8080/",
     "height": 280
    },
    "colab_type": "code",
    "executionInfo": {
     "elapsed": 74624,
     "status": "ok",
     "timestamp": 1592636073621,
     "user": {
      "displayName": "EMILIO PARRADO HERNANDEZ",
      "photoUrl": "https://lh3.googleusercontent.com/a-/AOh14Ghu-OvX6osyVq8b7J4Xa7D7HiZ61sPYwKqgPxyJ=s64",
      "userId": "09506376050266996513"
     },
     "user_tz": -120
    },
    "id": "4hyLIAmdcsud",
    "outputId": "d9acc2b5-3148-4989-9c86-7d5841a5a349",
    "slideshow": {
     "slide_type": "slide"
    }
   },
   "outputs": [],
   "source": [
    "##\n",
    "## \n",
    "##\n",
    "##\n",
    "##\n",
    "##\n",
    "from sklearn.neighbors import RadiusNeighborsClassifier\n",
    "rad_ac_entr = np.empty(bins)\n",
    "rad_ac_test = np.empty(bins)\n",
    "for ir, radius in enumerate(logbins):\n",
    "    rknn = RadiusNeighborsClassifier(radius=radius,  outlier_label='most_frequent')\n",
    "    rknn.fit(x_train, y_train)\n",
    "    rad_ac_entr[ir] = rknn.score(x_train, y_train)\n",
    "    rad_ac_test[ir] = rknn.score(x_test, y_test)\n"
   ]
  },
  {
   "cell_type": "code",
   "execution_count": null,
   "metadata": {},
   "outputs": [],
   "source": [
    "plt.figure(figsize=(8,6))\n",
    "plt.plot(logbins, rad_ac_entr*100, lw=2, label='acierto entrenamiento')\n",
    "plt.plot(logbins, rad_ac_test*100, lw=2,label='acierto test')\n",
    "plt.plot(logbins, np.ones(bins) * baseline, lw=2,label='baseline')\n",
    "plt.xscale('log')\n",
    "_ = plt.xlabel('Radio vecindad')\n",
    "_ = plt.ylabel('Acierto (%)')\n",
    "_ = plt.legend()\n",
    "plt.grid()"
   ]
  },
  {
   "cell_type": "code",
   "execution_count": null,
   "metadata": {
    "colab": {
     "base_uri": "https://localhost:8080/",
     "height": 280
    },
    "colab_type": "code",
    "executionInfo": {
     "elapsed": 124232,
     "status": "ok",
     "timestamp": 1592636123237,
     "user": {
      "displayName": "EMILIO PARRADO HERNANDEZ",
      "photoUrl": "https://lh3.googleusercontent.com/a-/AOh14Ghu-OvX6osyVq8b7J4Xa7D7HiZ61sPYwKqgPxyJ=s64",
      "userId": "09506376050266996513"
     },
     "user_tz": -120
    },
    "id": "3qrt_CLrcsuf",
    "outputId": "745948a2-7a49-4de5-aa23-979f7036bf41"
   },
   "outputs": [],
   "source": [
    "##\n",
    "## \n",
    "##\n",
    "## \n",
    "##\n",
    "##\n",
    "from sklearn.neighbors import RadiusNeighborsClassifier\n",
    "rad_ac_entr_w = np.empty(bins)\n",
    "rad_ac_test_w = np.empty(bins)\n",
    "for ir, radius in enumerate(logbins):\n",
    "    wrknn = RadiusNeighborsClassifier(radius=radius,  outlier_label='most_frequent',weights='distance')\n",
    "    wrknn.fit(x_train, y_train)\n",
    "    rad_ac_entr_w[ir] = wrknn.score(x_train, y_train)\n",
    "    rad_ac_test_w[ir] = wrknn.score(x_test, y_test)\n"
   ]
  },
  {
   "cell_type": "code",
   "execution_count": null,
   "metadata": {},
   "outputs": [],
   "source": [
    "plt.figure(figsize=(8,6))\n",
    "plt.plot(logbins, rad_ac_entr_w*100, lw=2, label='acierto entrenamiento')\n",
    "plt.plot(logbins, rad_ac_test_w*100, lw=2, label='acierto test')\n",
    "plt.plot(logbins, np.ones(bins) * baseline, lw=2, label='baseline')\n",
    "plt.xscale('log')\n",
    "_ = plt.xlabel('Radio vecindad')\n",
    "_ = plt.ylabel('Acierto (%)')\n",
    "_ = plt.legend()\n",
    "plt.grid()"
   ]
  },
  {
   "cell_type": "markdown",
   "metadata": {
    "colab_type": "text",
    "id": "DgU2fdCqcsuh",
    "slideshow": {
     "slide_type": "slide"
    }
   },
   "source": [
    "### ¿Cuál ha sido la mejor estrategia para este problema?\n",
    "Pues parece que si miramos el acierto de clasificación en el conjunto de test, la mejor estrategia haya sido *5NN* con voto ponderado por distancia."
   ]
  },
  {
   "cell_type": "markdown",
   "metadata": {
    "colab_type": "text",
    "id": "XgJO0jwNcsuh",
    "slideshow": {
     "slide_type": "slide"
    }
   },
   "source": [
    "# Regresión con $k$NN\n",
    "## Funciones de pérdidas y riesgos \n",
    "\n",
    "Las **funciones de pérdidas** miden el coste del error obtenido al predecir el *target* para una observación. El error se define como la diferencia entre el valor real del *target* ($y$) y el estimado ($\\hat{y}=f(\\mathbf x)$). Las funciones de pérdidas más habituales son\n",
    "\n",
    "- Coste cuadrático\n",
    "$$\n",
    "l(y, \\hat{y}) = (y - \\hat{y})^2\n",
    "$$\n",
    "- Error absoluto\n",
    "$$\n",
    "l(y, \\hat{y}) = |y - \\hat{y}|\n",
    "$$\n",
    "\n",
    "Cualitativamente ambas funciones de pérdida se parecen en que la penalización por acertar es nula, pero se diferencian en el trato que hacen sobre los *outliers*, las penalizaciones por errores muy gruesos son mucho mayores con el coste cuadrático, por lo que los algoritmos que traten de optimizar esta función de pérdidas harán mayor esfuerzo en tener pocas estimaciones con errores muy gruesos.\n",
    "\n",
    "El **riesgo** de un modelo de regresión es el valor esperado de su función de pérdidas. Es una manera de medir la calidad de las estimaciones hechas con el modelo. \n",
    "- El riesgo correspondiente a usar coste cuadrático como función de pérdidas es el **error cuadrático medio** (MSE, *mean squared error*)\n",
    "- El riesgo correspondiente al error absoluto es el **error absoluto medio** (MAD, *mean absolute deviation*, MAE, *mean absolute error*)\n"
   ]
  },
  {
   "cell_type": "markdown",
   "metadata": {
    "colab_type": "text",
    "id": "8d2odd9rcsui",
    "slideshow": {
     "slide_type": "slide"
    }
   },
   "source": [
    "\n",
    "## 1. Estimación del *target* $y_t$ para una observación de test $\\mathbf x_t$\n",
    "- Buscar de entre las observaciones del conjunto de entrenamiento las $k$ que están a una **distancia** menor de $\\mathbf x_t$: Estas muestras son los $k$ vecinos más próximos de $\\mathbf x_t$\n",
    "- Rescatar los *targets* de cada uno de los $k$ vecinos. \n",
    "- Asignar como *target* a la observación de test, $y_t$:\n",
    " - La **media** de los *targets* de los vecinos\n",
    " - La **media** de los *targets* de los vecinos, ponderados por la distancia entre vecino y observación de test\n",
    " - La **mediana** de los targets de los vecinos\n",
    " - La **moda** de los targets de los vecinos\n",
    " \n",
    " El estadístico empleado depende de la **función de coste** que queramos optimizar mediante el modelo:\n",
    " - Si queremos optimizar el MSE, el estadístico que debemos usar es la **media** de los *targets*. Esto es así porque la media es sensible a los *outliers* (todo suma).\n",
    " - Si queremos optimizar el MAE, debemos usar la **mediana** de los targets. La mediana es más difícil de influenciar por outliers (depende del orden de los targets\n",
    " - En casos donde los targets sean discretos (un conjunto más o menos reducido de valores), la **moda** puede ser una buena opción para no asignar valores de *target* fuera del dominio."
   ]
  },
  {
   "cell_type": "markdown",
   "metadata": {
    "colab_type": "text",
    "id": "nVsB9Skrcsui",
    "slideshow": {
     "slide_type": "slide"
    }
   },
   "source": [
    "# Problema de regresión para esta sesión: Housing \n",
    "Es otra de las bases de datos clásicas de UCI. Se trata de estimar el precio de propiedades en California a partir de algunas características de las mismas. Esta base de datos [**se puede cargar directamente desde sklearn**]\n",
    "\n",
    "\n",
    "\n",
    "  "
   ]
  },
  {
   "cell_type": "code",
   "execution_count": null,
   "metadata": {},
   "outputs": [],
   "source": [
    "from sklearn.datasets import fetch_california_housing\n",
    "housing = fetch_california_housing()\n",
    "nn_california = 5000\n",
    "data = housing.data[:nn_california]\n",
    "targets = housing.target[:nn_california]\n",
    "data_df = pd.DataFrame(np.vstack((data.T,targets)).T, columns=housing['feature_names']+ housing['target_names'])"
   ]
  },
  {
   "cell_type": "code",
   "execution_count": null,
   "metadata": {},
   "outputs": [],
   "source": [
    "print(housing.DESCR)"
   ]
  },
  {
   "cell_type": "code",
   "execution_count": null,
   "metadata": {},
   "outputs": [],
   "source": [
    "data_df.head()"
   ]
  },
  {
   "cell_type": "code",
   "execution_count": null,
   "metadata": {
    "colab": {
     "base_uri": "https://localhost:8080/",
     "height": 314
    },
    "colab_type": "code",
    "executionInfo": {
     "elapsed": 124215,
     "status": "ok",
     "timestamp": 1592636123239,
     "user": {
      "displayName": "EMILIO PARRADO HERNANDEZ",
      "photoUrl": "https://lh3.googleusercontent.com/a-/AOh14Ghu-OvX6osyVq8b7J4Xa7D7HiZ61sPYwKqgPxyJ=s64",
      "userId": "09506376050266996513"
     },
     "user_tz": -120
    },
    "id": "nRg7PXZUcsul",
    "outputId": "26bc87c6-2247-4a94-a264-25bc1090450f",
    "scrolled": true,
    "slideshow": {
     "slide_type": "slide"
    }
   },
   "outputs": [],
   "source": [
    "data_df.describe()"
   ]
  },
  {
   "cell_type": "markdown",
   "metadata": {
    "colab_type": "text",
    "id": "pmhfZ-Gzcsun",
    "slideshow": {
     "slide_type": "slide"
    }
   },
   "source": [
    "## Separar entre entrenamiento y test"
   ]
  },
  {
   "cell_type": "code",
   "execution_count": null,
   "metadata": {
    "colab": {},
    "colab_type": "code",
    "executionInfo": {
     "elapsed": 124214,
     "status": "ok",
     "timestamp": 1592636123240,
     "user": {
      "displayName": "EMILIO PARRADO HERNANDEZ",
      "photoUrl": "https://lh3.googleusercontent.com/a-/AOh14Ghu-OvX6osyVq8b7J4Xa7D7HiZ61sPYwKqgPxyJ=s64",
      "userId": "09506376050266996513"
     },
     "user_tz": -120
    },
    "id": "NRH7CLM1csuo"
   },
   "outputs": [],
   "source": [
    "x_train, x_test, y_train, y_test = train_test_split(data, targets, test_size=0.3, random_state=42)"
   ]
  },
  {
   "cell_type": "markdown",
   "metadata": {
    "colab_type": "text",
    "id": "UrrkXCzqcsup"
   },
   "source": [
    "## Entrenamiento y validación del modelo\n",
    "Vamos a emplear la implementación de [*kNN* para regresión](https://scikit-learn.org/stable/modules/generated/sklearn.neighbors.KNeighborsRegressor.html) contenida en el módulo **sklearn** de python.\n",
    "Los regresores implementados en sklearn también tienen los tres métodos fundamentales que vimos para clasificación:\n",
    "- `fit`: Entrenamiento del modelo. En los algoritmos de aprendizaje supervisado los argumentos son un array de numpy con las observaciones, una observación en cada **fila** y un array con los targets\n",
    "- `predict`: Explotar el modelo. El argumento es un numpy array con las observaciones del conjunto de test. La salida es el target estimado para cada fila del argumento de entrada\n",
    "- `score`: Evaluar el modelo. En los problemas de regresión el *score* que se calcula por defecto es el estadístico $R^2$.\n"
   ]
  },
  {
   "cell_type": "markdown",
   "metadata": {
    "slideshow": {
     "slide_type": "slide"
    }
   },
   "source": [
    "### El estadístico $R^2$\n",
    "\n",
    "$$\n",
    "R^2 = 1-\\frac{\\sum_{i=1}^{N_t}{(y_i-\\hat{y}_i)^2}}{\\sum_{i=1}^{N_t}{(y_i-\\bar{y})^2}}\n",
    "$$donde $N_t$ es el tamaño del conjunto usado para calcular el estadístico, $\\hat{y}_i$, $i=1,\\dots,N_t$ son las estimaciones hechas por el modelo, $y_i$ ($i=1,\\dots,N_t$)  son los *targets* verdaderos e $\\bar{y}=1/N_t\\sum_{i=1}^{N_t}y_i$ es la media de los *targets* verdaderos. \n",
    "\n",
    "- $R^2$ toma un valor máximo de $1.0$ cuando el modelo no comete errores y su valor es decreciente. \n",
    "\n",
    "- La manera que tiene de decrecer es una comparación entre la precisión del modelo y la precisión de un modelo trivial consistente en estimar todos los *targets* con la media. \n",
    "\n",
    "- Mientras el modelo sea más preciso que estimar con la media, $R^2$ será positivo. Si obtenemos un valor de $R^2$ negativo es porque el modelo comete un error peor que el resultante de estimar todos los targets con su media. "
   ]
  },
  {
   "cell_type": "code",
   "execution_count": null,
   "metadata": {
    "colab": {
     "base_uri": "https://localhost:8080/",
     "height": 52
    },
    "colab_type": "code",
    "executionInfo": {
     "elapsed": 124205,
     "status": "ok",
     "timestamp": 1592636123240,
     "user": {
      "displayName": "EMILIO PARRADO HERNANDEZ",
      "photoUrl": "https://lh3.googleusercontent.com/a-/AOh14Ghu-OvX6osyVq8b7J4Xa7D7HiZ61sPYwKqgPxyJ=s64",
      "userId": "09506376050266996513"
     },
     "user_tz": -120
    },
    "id": "XwwOfTelcsuq",
    "outputId": "0b3d200e-6c2c-4c80-fd06-53579d2aae90"
   },
   "outputs": [],
   "source": [
    "from sklearn.neighbors import KNeighborsRegressor\n",
    "\n",
    "n_neighbors = 3\n",
    "knn = KNeighborsRegressor(n_neighbors=n_neighbors)\n",
    "knn.fit(x_train, y_train)\n",
    "riesgo_entrenamiento = knn.score(x_train, y_train)\n",
    "riego_test = knn.score(x_test, y_test)\n",
    "print(\"R^2 en el conjunto de entrenamiento: {0:.2f}\".format(riesgo_entrenamiento))\n",
    "print(\"R^2 en el conjunto de test: {0:.2f}\".format(riego_test))"
   ]
  },
  {
   "cell_type": "markdown",
   "metadata": {
    "colab_type": "text",
    "id": "g0Ea-0-Ncsur"
   },
   "source": [
    "### Primera valoración de los resultados\n",
    "Hemos obtenido un $R^2$ negativo y razonablemente cerca de 0. "
   ]
  },
  {
   "cell_type": "markdown",
   "metadata": {
    "colab_type": "text",
    "id": "LIFObzxGcsus"
   },
   "source": [
    "### Impacto del número de vecinos"
   ]
  },
  {
   "cell_type": "code",
   "execution_count": null,
   "metadata": {
    "colab": {
     "base_uri": "https://localhost:8080/",
     "height": 295
    },
    "colab_type": "code",
    "executionInfo": {
     "elapsed": 125320,
     "status": "ok",
     "timestamp": 1592636124363,
     "user": {
      "displayName": "EMILIO PARRADO HERNANDEZ",
      "photoUrl": "https://lh3.googleusercontent.com/a-/AOh14Ghu-OvX6osyVq8b7J4Xa7D7HiZ61sPYwKqgPxyJ=s64",
      "userId": "09506376050266996513"
     },
     "user_tz": -120
    },
    "id": "Hm1JjHVccsus",
    "outputId": "94b2121c-a09c-4e2b-fa6c-77f5cd072858"
   },
   "outputs": [],
   "source": [
    "##\n",
    "## \n",
    "##\n",
    "##\n",
    "##\n",
    "##\n",
    "from sklearn.metrics import r2_score\n",
    "v_nn = [1,2,3,4,5,6,7,8,9,10,20,30,40,50,60,70,80,90,100,200,350]\n",
    "r2_entr = np.empty(len(v_nn))\n",
    "r2_test = np.empty(len(v_nn))\n",
    "for inn, n_neighbors in enumerate(v_nn):\n",
    "    knn = KNeighborsRegressor(n_neighbors=n_neighbors)\n",
    "    knn.fit(x_train, y_train)\n",
    "    r2_entr[inn] = knn.score(x_train, y_train)\n",
    "    r2_test[inn] = knn.score(x_test, y_test)\n"
   ]
  },
  {
   "cell_type": "code",
   "execution_count": null,
   "metadata": {
    "colab": {},
    "colab_type": "code",
    "executionInfo": {
     "elapsed": 125319,
     "status": "ok",
     "timestamp": 1592636124364,
     "user": {
      "displayName": "EMILIO PARRADO HERNANDEZ",
      "photoUrl": "https://lh3.googleusercontent.com/a-/AOh14Ghu-OvX6osyVq8b7J4Xa7D7HiZ61sPYwKqgPxyJ=s64",
      "userId": "09506376050266996513"
     },
     "user_tz": -120
    },
    "id": "BQ2qxxwXHBfu"
   },
   "outputs": [],
   "source": [
    "plt.figure(figsize=(8,6))\n",
    "plt.plot(v_nn, r2_entr, lw=2,label='$R^2$ entrenamiento')\n",
    "plt.plot(v_nn, r2_test, lw=2,label='$R^2$ test')\n",
    "plt.plot(v_nn, r2_score(y_test,np.ones(len(y_test))*np.mean(y_train))*np.ones(len(v_nn)), lw=2, label='baseline')\n",
    "_ = plt.xlabel('Num vecinos')\n",
    "_ = plt.ylabel('$R^2$')\n",
    "_ = plt.legend()\n",
    "\n",
    "plt.grid()\n",
    "best_k = v_nn[np.argmax(r2_test)]\n",
    "plt.show()\n",
    "print(\"El número de vecinos que da el mejor resultado en test es {0:d}, R^2 del  {1:.2f}\".format(best_k, \n",
    "                                                                                                     np.max(r2_test)))\n",
    "acierto_housing_knn = np.max(r2_test)"
   ]
  },
  {
   "cell_type": "markdown",
   "metadata": {},
   "source": [
    "En escala logarítmica, para ver en mejor detalle los números bajos de $k$"
   ]
  },
  {
   "cell_type": "code",
   "execution_count": null,
   "metadata": {
    "colab": {
     "base_uri": "https://localhost:8080/",
     "height": 280
    },
    "colab_type": "code",
    "executionInfo": {
     "elapsed": 125310,
     "status": "ok",
     "timestamp": 1592636124364,
     "user": {
      "displayName": "EMILIO PARRADO HERNANDEZ",
      "photoUrl": "https://lh3.googleusercontent.com/a-/AOh14Ghu-OvX6osyVq8b7J4Xa7D7HiZ61sPYwKqgPxyJ=s64",
      "userId": "09506376050266996513"
     },
     "user_tz": -120
    },
    "id": "hv6Ttiun5ddX",
    "outputId": "e3fb594d-a17e-4897-84c6-f375fc4521cb"
   },
   "outputs": [],
   "source": [
    "plt.figure(figsize=(8,6))\n",
    "plt.plot(v_nn, r2_entr, lw=2,label='$R^2$ entrenamiento')\n",
    "plt.plot(v_nn, r2_test, lw=2,label='$R^2$ test')\n",
    "plt.plot(v_nn, r2_score(y_test,np.ones(len(y_test))*np.mean(y_train))*np.ones(len(v_nn)), lw=2, label='baseline')\n",
    "_ = plt.xlabel('Num vecinos')\n",
    "_ = plt.ylabel('$R^2$')\n",
    "_ = plt.legend()\n",
    "plt.xscale('log')\n",
    "plt.grid()"
   ]
  },
  {
   "cell_type": "code",
   "execution_count": null,
   "metadata": {
    "colab": {
     "base_uri": "https://localhost:8080/",
     "height": 295
    },
    "colab_type": "code",
    "executionInfo": {
     "elapsed": 126212,
     "status": "ok",
     "timestamp": 1592636125275,
     "user": {
      "displayName": "EMILIO PARRADO HERNANDEZ",
      "photoUrl": "https://lh3.googleusercontent.com/a-/AOh14Ghu-OvX6osyVq8b7J4Xa7D7HiZ61sPYwKqgPxyJ=s64",
      "userId": "09506376050266996513"
     },
     "user_tz": -120
    },
    "id": "jJwVYxx2csuu",
    "outputId": "14695495-f66c-4564-c002-ca08907fbf24"
   },
   "outputs": [],
   "source": [
    "##\n",
    "## \n",
    "##\n",
    "##\n",
    "##\n",
    "##\n",
    "r2_entr_w = np.empty(len(v_nn))\n",
    "r2_test_w = np.empty(len(v_nn))\n",
    "for inn, n_neighbors in enumerate(v_nn):\n",
    "    knn = KNeighborsRegressor(n_neighbors=n_neighbors, weights='distance')\n",
    "    knn.fit(x_train, y_train)\n",
    "    r2_entr_w[inn] = knn.score(x_train, y_train)\n",
    "    r2_test_w[inn] = knn.score(x_test, y_test)\n",
    "              "
   ]
  },
  {
   "cell_type": "code",
   "execution_count": null,
   "metadata": {},
   "outputs": [],
   "source": [
    "plt.figure(figsize=(8,6))\n",
    "plt.plot(v_nn, r2_entr_w, lw=2,label='$R^2$ entrenamiento')\n",
    "plt.plot(v_nn, r2_test_w, lw=2,label='$R^2$ test')\n",
    "plt.plot(v_nn, r2_score(y_test,np.ones(len(y_test))*np.mean(y_train))*np.ones(len(v_nn)),\n",
    "         lw=2,label='baseline')\n",
    "_ = plt.xlabel('Num vecinos')\n",
    "_ = plt.ylabel('$R^2$')\n",
    "_ = plt.legend()\n",
    "plt.grid()\n",
    "best_k = v_nn[np.argmax(r2_test_w)]\n",
    "plt.show()\n",
    "print(\"El número de vecinos que da el mejor resultado si ponderamos votos por distancias en test es {0:d}, R^2 del  {1:.2f}\".format(best_k,np.max(r2_test_w))) \n",
    "\n",
    "acierto_housing_knn_w = np.max(r2_test_w)   "
   ]
  },
  {
   "cell_type": "code",
   "execution_count": null,
   "metadata": {
    "colab": {
     "base_uri": "https://localhost:8080/",
     "height": 280
    },
    "colab_type": "code",
    "executionInfo": {
     "elapsed": 126205,
     "status": "ok",
     "timestamp": 1592636125276,
     "user": {
      "displayName": "EMILIO PARRADO HERNANDEZ",
      "photoUrl": "https://lh3.googleusercontent.com/a-/AOh14Ghu-OvX6osyVq8b7J4Xa7D7HiZ61sPYwKqgPxyJ=s64",
      "userId": "09506376050266996513"
     },
     "user_tz": -120
    },
    "id": "XjUryBeB51ze",
    "outputId": "ebfa439f-c9ca-4af6-f6a5-68284954fdb6"
   },
   "outputs": [],
   "source": [
    "plt.figure(figsize=(8,6))\n",
    "plt.plot(v_nn, r2_entr_w, lw=2, label='$R^2$ entrenamiento')\n",
    "plt.plot(v_nn, r2_test_w, lw=2, label='$R^2$ test')\n",
    "plt.plot(v_nn, r2_score(y_test,np.ones(len(y_test))*np.mean(y_train))*np.ones(len(v_nn)), \n",
    "         lw=2, label='baseline')\n",
    "_ = plt.xlabel('Num vecinos')\n",
    "_ = plt.ylabel('$R^2$')\n",
    "_ = plt.legend()\n",
    "plt.xscale('log')\n",
    "plt.grid()"
   ]
  },
  {
   "cell_type": "markdown",
   "metadata": {
    "colab_type": "text",
    "id": "6b7g7MSmcsuv"
   },
   "source": [
    "### Bolas o vecinos"
   ]
  },
  {
   "cell_type": "code",
   "execution_count": null,
   "metadata": {
    "colab": {},
    "colab_type": "code",
    "executionInfo": {
     "elapsed": 126202,
     "status": "ok",
     "timestamp": 1592636125276,
     "user": {
      "displayName": "EMILIO PARRADO HERNANDEZ",
      "photoUrl": "https://lh3.googleusercontent.com/a-/AOh14Ghu-OvX6osyVq8b7J4Xa7D7HiZ61sPYwKqgPxyJ=s64",
      "userId": "09506376050266996513"
     },
     "user_tz": -120
    },
    "id": "sxBntCLWcsuw"
   },
   "outputs": [],
   "source": [
    "A = pairwise_distances(x_test, x_train,'euclidean') \n",
    "\n",
    "# Ordenar todos los vecinos para cada observación de test\n",
    "id_vecinos = np.argsort(A, axis=1) # indices de las observaciones de entrenamiento, ¿quién es el veino k-ésimo?\n",
    "sorted_A = 1e-6+np.sort(A, axis=1) # distancias a los vecinos ¿qué tan lejos está el vecino k-ésimo?\n",
    "\n",
    "# target que vota cada vecino\n",
    "target_vecinos = np.vstack([y_train[id_vecinos[tt,:]] for tt in range(len(y_test))])\n",
    "\n",
    "# peso con el que vota cada vecino a cada observación de test\n",
    "peso_vecinos = 1./sorted_A\n",
    "\n",
    "# denominadores para normalizar las sumas de votos\n",
    "cumsum_peso_vecinos = np.cumsum(peso_vecinos, axis=1)\n",
    "\n",
    "# resultados de las votaciones para cada observación de test y valor de k\n",
    "knn_estimacion = np.cumsum(target_vecinos * peso_vecinos, axis=1) / cumsum_peso_vecinos\n",
    "\n"
   ]
  },
  {
   "cell_type": "code",
   "execution_count": null,
   "metadata": {
    "colab": {},
    "colab_type": "code",
    "executionInfo": {
     "elapsed": 126201,
     "status": "ok",
     "timestamp": 1592636125277,
     "user": {
      "displayName": "EMILIO PARRADO HERNANDEZ",
      "photoUrl": "https://lh3.googleusercontent.com/a-/AOh14Ghu-OvX6osyVq8b7J4Xa7D7HiZ61sPYwKqgPxyJ=s64",
      "userId": "09506376050266996513"
     },
     "user_tz": -120
    },
    "id": "wy-_EADgcsuy"
   },
   "outputs": [],
   "source": []
  },
  {
   "cell_type": "code",
   "execution_count": null,
   "metadata": {
    "colab": {
     "base_uri": "https://localhost:8080/",
     "height": 939
    },
    "colab_type": "code",
    "executionInfo": {
     "elapsed": 130406,
     "status": "ok",
     "timestamp": 1592636129491,
     "user": {
      "displayName": "EMILIO PARRADO HERNANDEZ",
      "photoUrl": "https://lh3.googleusercontent.com/a-/AOh14Ghu-OvX6osyVq8b7J4Xa7D7HiZ61sPYwKqgPxyJ=s64",
      "userId": "09506376050266996513"
     },
     "user_tz": -120
    },
    "id": "WEp936kecsuz",
    "outputId": "fbac4f81-582b-448c-de0f-8cd815a36908"
   },
   "outputs": [],
   "source": [
    "v_k=[1, 3, 5, 10]\n",
    "ff,aa = plt.subplots(len(v_k), 2, sharex='row', sharey='col', figsize=(8,12))\n",
    "bins=20\n",
    "for ik, k in enumerate(v_k):\n",
    "    radios = sorted_A[:,k]\n",
    "    y_pred = knn_estimacion[:,k]\n",
    "    #acierto = \n",
    "    logbins = np.logspace(0,np.log10(np.max(radios)+1),(bins))\n",
    "    aa[ik][0].hist(radios, logbins)\n",
    "    aa[ik][0].set_xscale('log')\n",
    "    aa[ik][0].set_title('histograma de radios de vecindad, k={0:d}'.format(k))\n",
    "    \n",
    "    id_bin = np.digitize(radios, logbins)\n",
    "    prob_acierto_radio = np.empty(len(logbins))\n",
    "    tamanno = np.empty(bins)\n",
    "    for ii in range(bins):\n",
    "        cuales = np.where(id_bin == ii)[0]\n",
    "        if len(cuales)<2:\n",
    "            continue\n",
    "        tamanno[ii] = len(cuales)\n",
    "        prob_acierto_radio[ii] = r2_score(y_test[cuales], y_pred[cuales])\n",
    "    \n",
    "    aa[ik][1].scatter(logbins, prob_acierto_radio,s=10*tamanno, alpha=0.3)\n",
    "    aa[ik][1].set_title('R^2 medio')\n",
    "    aa[ik][1].set_xlabel('radio de vecindad')\n",
    "    aa[ik][1].grid\n",
    "ff.tight_layout()"
   ]
  },
  {
   "cell_type": "markdown",
   "metadata": {
    "colab_type": "text",
    "id": "9w5rkqMPcsu1",
    "slideshow": {
     "slide_type": "slide"
    }
   },
   "source": [
    "\n",
    "Lamentablemente **no podemos usar** `RadiusNeighborsRegressor` porque no tiene el control de vecindarios vacíos que tiene la versión para clasificación...\n",
    "\n",
    "Otras funcionalidades que estaría bien añadir al regresor es que el *target* fuese la mediana o la moda de los *targets* de los vecinos..."
   ]
  },
  {
   "cell_type": "markdown",
   "metadata": {
    "colab_type": "text",
    "id": "NgbiN3gTcsu1",
    "slideshow": {
     "slide_type": "slide"
    }
   },
   "source": [
    "# Árboles de Decisión\n",
    "Construyen una estructura jerárquica mediante la aplicación **recursiva** de clasificadores de tipo *stump*\n",
    "\n",
    "## Clasificador *stump*\n",
    "- Definido mediante una variable y un umbral.\n",
    "- Divide el espacio de entrada en dos, aquellos patrones para los que el test es verdadero y aquellos patrones para los que el test es falso.\n",
    "\n",
    "<img src='http://www.tsc.uc3m.es/~emipar/BBVA/INTRO/img/logo_uc3m_foot.jpg' width=400 />\n"
   ]
  },
  {
   "cell_type": "markdown",
   "metadata": {
    "colab_type": "text",
    "id": "aKNj2quWcsu2",
    "slideshow": {
     "slide_type": "slide"
    }
   },
   "source": [
    "## Construcción del árbol\n",
    "1. Se comienza con un **nodo raíz**, que es un nodo que contiene a todas las observaciones del conjunto de entrenamiento\n",
    "2.  Se determina un test de umbral para el nodo raíz que divide este nodo de dos **nodos rama**\n",
    "3.  **Recursión** aplicada a cada nodo rama\n",
    "    1. Si el nodo rama es **suficientemente homogéneo** se declara **nodo hoja**\n",
    "        - se le asigna una clase de salida para etiquetar observaciones\n",
    "        - y se saca de la lista de nodos rama\n",
    "    2. Si no es suficientemente homogéneo se subdivide a su vez en dos nodos rama; el nodo que se acaba de subdividir se saca de la lista de nodos hoja\n",
    "    \n",
    "<img src='http://www.tsc.uc3m.es/~emipar/BBVA/INTRO/img/logo_uc3m_foot.jpg' width=400 />\n"
   ]
  },
  {
   "cell_type": "markdown",
   "metadata": {
    "colab_type": "text",
    "id": "TG6Hczj5csu2",
    "slideshow": {
     "slide_type": "slide"
    }
   },
   "source": [
    "## Evaluación del árbol\n",
    "1. Cada observación de test se evalúa con el test de umbral del nodo raíz e ingresa en una de las ramas del árbol\n",
    "2. Recursivamente va descendiendo a través de los test de umbral de los nodos rama que le toque recorrer\n",
    "3. Se asigna la clase target del nodo hoja en el que termine su recorrido por la jerarquía del árbol\n",
    "\n",
    "<img src='http://www.tsc.uc3m.es/~emipar/BBVA/INTRO/img/logo_uc3m_foot.jpg' width=400 />\n"
   ]
  },
  {
   "cell_type": "markdown",
   "metadata": {
    "colab_type": "text",
    "id": "hkaoPI7Ncsu2",
    "slideshow": {
     "slide_type": "slide"
    }
   },
   "source": [
    "## Optimización de cada test de umbral\n",
    "Si a un nodo $h_0$ llegan $N$ observaciones en $d$ dimensiones (esto es, $d$ variables de entrada), cada test se optimiza mediante un bucle anidado que se ejecuta por cada dimensión $j=1,\\dots,d$:\n",
    "\n",
    "Repetir para $j=1,\\dots,d$:  \n",
    "1. Ordenar las observaciones por sus valores de la variable $j$. Si asumimos que los datos que llegan al nodo están ordenados en un array de $N$ filas (una por cada dato) y $d$ columnas (una por cada dimensión), este paso consiste en ordenar las observaciones por el valor de la columna $j$. \n",
    "2. Existen como mucho $N-1$ posibles test de umbral\n",
    "  - Hay $N-1$ maneras de separar las observaciones ordenadas por la dimensión $j$ en dos grupos\n",
    "  - si hay valores repetidos para una variable habrá menos de $N-1$ posibles umbrales\n",
    "3. Repetir para cada uno de los $N-1$ umbrales en la dimensión $j$:  \n",
    "    - Suponemos el test de umbral divide el nodo rama en dos nodos hijos, $h_1$ y $h_2$, donde\n",
    "        - $h_1$ recibe $N_1$ de las $N$ observaciones (aquellas cuyo valor de la variable $j$ está a la **izquierda** del umbral), la clase mayoritaria es $t_1$ y la impureza del nodo es $G_1$\n",
    "        - $h_2$ recibe $N_2$ (aquellas cuyo valor de la variable $j$ está a la **derecha** del umbral) de las $N$ observaciones  ($N_1 + N_2=N$), la clase mayoritaria es $t_2$ y la impureza del nodo es $G_2$\n",
    "    - Evaluamos y almacenamos la **mediocridad** del test como $\\frac{N_1}{N}G_1 + \\frac{N_2}{N}G_2$\n",
    "\n",
    "Finalmente elegimos como test de umbral para dividir $h_0$ el mejor de los $(N-1)\\times d$ test probados en el bucle anidado, es decir, el de **menor mediocridad**.\n",
    "\n",
    "<img src='http://www.tsc.uc3m.es/~emipar/BBVA/INTRO/img/logo_uc3m_foot.jpg' width=400 />\n"
   ]
  },
  {
   "cell_type": "markdown",
   "metadata": {
    "colab_type": "text",
    "id": "t48Ggrejcsu3"
   },
   "source": [
    "## Medidas de mediocridad de test de umbral para clasificación\n",
    "- Error de clasificación\n",
    "- Índice **Gini**. Si tenemos un problema de clasificación con $K$ clases, definimos como $p_k$ la fracción de observaciones del nodo que pertenecen a la clase con target $t_k$\n",
    "  $$\n",
    "  \\mbox{Gini}=\\sum_{k=1}^Kp_k(1-p_k)\n",
    "  $$\n",
    "- **Entropía cruzada**\n",
    "  $$\n",
    "  -\\sum_{k=1}^Kp_k\\log p_k\n",
    "  $$\n",
    "La siguiente figura representa los valores de estas tres medidas en un problema con dos clases. Intuitivamente el índice Gini o la entropía se prefieren al error porque ante divisiones que dan el mismo error de clasificación, prefieren las que tienen a uno de los hijos más homogéneo.\n",
    "\n",
    "<img src='http://www.tsc.uc3m.es/~emipar/BBVA/INTRO/img/logo_uc3m_foot.jpg' width=400 />\n"
   ]
  },
  {
   "cell_type": "code",
   "execution_count": null,
   "metadata": {
    "colab": {
     "base_uri": "https://localhost:8080/",
     "height": 265
    },
    "colab_type": "code",
    "executionInfo": {
     "elapsed": 130400,
     "status": "ok",
     "timestamp": 1592636129492,
     "user": {
      "displayName": "EMILIO PARRADO HERNANDEZ",
      "photoUrl": "https://lh3.googleusercontent.com/a-/AOh14Ghu-OvX6osyVq8b7J4Xa7D7HiZ61sPYwKqgPxyJ=s64",
      "userId": "09506376050266996513"
     },
     "user_tz": -120
    },
    "id": "K8NmFrCOcsu3",
    "outputId": "39a187b1-9b18-4afb-a6a5-d84c794361bc"
   },
   "outputs": [],
   "source": [
    "xx=np.linspace(1e-4,.9999,100)\n",
    "error = np.min(np.vstack((xx,1-xx)),0)\n",
    "gini = 2*xx*(1-xx)\n",
    "entropia = -xx*np.log(xx)-(1-xx)*np.log(1-xx)\n",
    "plt.figure()\n",
    "plt.plot(xx,error,label='Error Clasificación')\n",
    "plt.plot(xx,gini,label='Índice Gini')\n",
    "plt.plot(xx,entropia,label='Entropía Cruzada')\n",
    "plt.xlabel('p(y=1)')\n",
    "plt.legend()\n",
    "plt.grid()"
   ]
  },
  {
   "cell_type": "markdown",
   "metadata": {
    "colab_type": "text",
    "id": "KWCTueEmAaek",
    "slideshow": {
     "slide_type": "slide"
    }
   },
   "source": [
    "### Ejemplo con el *toy problem*"
   ]
  },
  {
   "cell_type": "code",
   "execution_count": null,
   "metadata": {
    "colab": {
     "base_uri": "https://localhost:8080/",
     "height": 459
    },
    "colab_type": "code",
    "executionInfo": {
     "elapsed": 130391,
     "status": "ok",
     "timestamp": 1592636129492,
     "user": {
      "displayName": "EMILIO PARRADO HERNANDEZ",
      "photoUrl": "https://lh3.googleusercontent.com/a-/AOh14Ghu-OvX6osyVq8b7J4Xa7D7HiZ61sPYwKqgPxyJ=s64",
      "userId": "09506376050266996513"
     },
     "user_tz": -120
    },
    "id": "MzttEnbmAg3V",
    "outputId": "2b744edd-94e1-4be7-d584-e61e8e2af5f5"
   },
   "outputs": [],
   "source": [
    "fx,ax = plt.subplots(1,1,figsize=(7,7))\n",
    "pinta_ejemplo(x,y,xt,ax)\n",
    "ax.set_xlabel('x1')\n",
    "_ = ax.set_ylabel('x2')"
   ]
  },
  {
   "cell_type": "code",
   "execution_count": null,
   "metadata": {
    "colab": {
     "base_uri": "https://localhost:8080/",
     "height": 757
    },
    "colab_type": "code",
    "executionInfo": {
     "elapsed": 130382,
     "status": "ok",
     "timestamp": 1592636129493,
     "user": {
      "displayName": "EMILIO PARRADO HERNANDEZ",
      "photoUrl": "https://lh3.googleusercontent.com/a-/AOh14Ghu-OvX6osyVq8b7J4Xa7D7HiZ61sPYwKqgPxyJ=s64",
      "userId": "09506376050266996513"
     },
     "user_tz": -120
    },
    "id": "JELZgbqSA8k6",
    "outputId": "41bd7f36-c207-4922-c795-d564cdb0acac"
   },
   "outputs": [],
   "source": [
    "from sklearn.tree import DecisionTreeClassifier,export_text\n",
    "DT = DecisionTreeClassifier(max_leaf_nodes=20,random_state=42)\n",
    "DT.fit(x, y)\n",
    "\n",
    "import graphviz\n",
    "from sklearn import tree\n",
    "dot_Data = tree.export_graphviz(DT, \n",
    "                                out_file=None, \n",
    "                                feature_names = ['x1','x2'],\n",
    "                               class_names=['azul','roja'],\n",
    "                                filled=True, \n",
    "                                rounded=True,  \n",
    "                              special_characters=True)\n",
    "graph = graphviz.Source(dot_Data)\n",
    "graph"
   ]
  },
  {
   "cell_type": "code",
   "execution_count": null,
   "metadata": {
    "colab": {
     "base_uri": "https://localhost:8080/",
     "height": 312
    },
    "colab_type": "code",
    "executionInfo": {
     "elapsed": 130374,
     "status": "ok",
     "timestamp": 1592636129493,
     "user": {
      "displayName": "EMILIO PARRADO HERNANDEZ",
      "photoUrl": "https://lh3.googleusercontent.com/a-/AOh14Ghu-OvX6osyVq8b7J4Xa7D7HiZ61sPYwKqgPxyJ=s64",
      "userId": "09506376050266996513"
     },
     "user_tz": -120
    },
    "id": "ct-3AfPbCjWY",
    "outputId": "b6df7290-8eba-469f-b7f9-36cb932a66d4"
   },
   "outputs": [],
   "source": [
    "r = export_text(DT, feature_names=['x1','x2'])\n",
    "print(r)"
   ]
  },
  {
   "cell_type": "code",
   "execution_count": null,
   "metadata": {
    "colab": {
     "base_uri": "https://localhost:8080/",
     "height": 1000
    },
    "colab_type": "code",
    "executionInfo": {
     "elapsed": 132529,
     "status": "ok",
     "timestamp": 1592636131657,
     "user": {
      "displayName": "EMILIO PARRADO HERNANDEZ",
      "photoUrl": "https://lh3.googleusercontent.com/a-/AOh14Ghu-OvX6osyVq8b7J4Xa7D7HiZ61sPYwKqgPxyJ=s64",
      "userId": "09506376050266996513"
     },
     "user_tz": -120
    },
    "id": "9YxWZgYODFtb",
    "outputId": "e8f0b55d-563e-42fb-dd04-20b87e42d541"
   },
   "outputs": [],
   "source": [
    "fx,ax = plt.subplots(5,1,sharex=True, sharey=True, figsize=(6,30))\n",
    "cc=0\n",
    "plot_step=0.05\n",
    "x0 = x.copy()\n",
    "x_min, x_max = x0[:, 0].min() - 0.1, x0[:, 0].max() + 0.1\n",
    "y_min, y_max = x0[:, 1].min() - 0.1, x0[:, 1].max() + 0.1\n",
    "xx, yy = np.meshgrid(np.arange(x_min, x_max, plot_step),\n",
    "                         np.arange(y_min, y_max, plot_step))\n",
    "v_hh = [2,3,4,5,6]\n",
    "y1 = y.copy()\n",
    "y1[y1==0] = -1\n",
    "for cc in range(5):\n",
    "  DT = DecisionTreeClassifier(max_leaf_nodes=v_hh[cc],random_state=42)\n",
    "  DT.fit(x, -y1)\n",
    "  pinta_ejemplo(x,y,xt,ax[cc])\n",
    "  ax[cc].set_xlabel('x1')\n",
    "  ax[cc].set_ylabel('x2')\n",
    "\n",
    "  Z = DT.predict(np.c_[xx.ravel(), yy.ravel()])\n",
    "  Z = Z.reshape(xx.shape)\n",
    "  cs = ax[cc].contourf(xx, yy, Z, cmap=plt.cm.RdYlBu, alpha=0.2)\n",
    "  _ = ax[cc].set_ylim([y_min, y_max])\n"
   ]
  },
  {
   "cell_type": "markdown",
   "metadata": {
    "colab_type": "text",
    "id": "BEMcQRlMcsu5",
    "slideshow": {
     "slide_type": "slide"
    }
   },
   "source": [
    "## Implementación en sklearn\n",
    "\n",
    "La clase [`sklearn.tree.DecisionTreeClassifier`](https://scikit-learn.org/stable/modules/generated/sklearn.tree.DecisionTreeClassifier.html) tiene los siguientes parámetros:\n",
    "- `criterion`: \"gini\" o \"entropy\"\n",
    "- `splitter`: \"best\" o \"random\"\n",
    "- `max_depth`: máxima profundidad\n",
    "- `min_samples_split`: mínimo número de observaciones para dividir el nodo\n",
    "- `min_samples_leaf`: mínimo número de observaciones para que un nodo pueda ser hoja\n",
    "- `min_weight_fraction_leaf`: para cuando tenemos un peso para cada observación, mismo concepto que min_samples_leaf\n",
    "- `max_features`: máximo número de variables en el bucle para buscar el mejor test de umbral\n",
    "- `max_leaf_nodes`: número máximo de hojas en *best-first*\n",
    "- `min_impurity_decrease`: un nodo se divide si consigue que la impureza decaiga al menos esta cantidad\n",
    "- `min_impurity_split`: un nodo se divide sólo si su impureza pasa este valor. Si no lo pasa se queda en hoja\n",
    "- `class_weight`: peso de los errores de cada clase"
   ]
  },
  {
   "cell_type": "markdown",
   "metadata": {
    "colab_type": "text",
    "id": "kJNPcn5pelPh",
    "slideshow": {
     "slide_type": "slide"
    }
   },
   "source": [
    "## Spam detection con árboles de decisión"
   ]
  },
  {
   "cell_type": "code",
   "execution_count": null,
   "metadata": {
    "colab": {},
    "colab_type": "code",
    "executionInfo": {
     "elapsed": 134413,
     "status": "ok",
     "timestamp": 1592636133545,
     "user": {
      "displayName": "EMILIO PARRADO HERNANDEZ",
      "photoUrl": "https://lh3.googleusercontent.com/a-/AOh14Ghu-OvX6osyVq8b7J4Xa7D7HiZ61sPYwKqgPxyJ=s64",
      "userId": "09506376050266996513"
     },
     "user_tz": -120
    },
    "id": "H5s4qL7ecsu7"
   },
   "outputs": [],
   "source": [
    "data = load_spam()\n",
    "X = data[data.columns[:57]].values\n",
    "Y = data['target'].values\n",
    "x_train, x_test, y_train, y_test = train_test_split(X, Y, test_size=0.3, random_state=42)\n",
    "baseline = max(100.*(1-np.mean(y_test)), 100.*np.mean(y_test))"
   ]
  },
  {
   "cell_type": "code",
   "execution_count": null,
   "metadata": {
    "colab": {
     "base_uri": "https://localhost:8080/",
     "height": 52
    },
    "colab_type": "code",
    "executionInfo": {
     "elapsed": 134407,
     "status": "ok",
     "timestamp": 1592636133546,
     "user": {
      "displayName": "EMILIO PARRADO HERNANDEZ",
      "photoUrl": "https://lh3.googleusercontent.com/a-/AOh14Ghu-OvX6osyVq8b7J4Xa7D7HiZ61sPYwKqgPxyJ=s64",
      "userId": "09506376050266996513"
     },
     "user_tz": -120
    },
    "id": "kz9GCncycsu8",
    "outputId": "e44c3bfc-55ac-4fa0-9af2-e9e19d9dd518"
   },
   "outputs": [],
   "source": [
    "from sklearn.tree import DecisionTreeClassifier\n",
    "DT = DecisionTreeClassifier(max_leaf_nodes=6)\n",
    "DT.fit(x_train, y_train)\n",
    "acierto_entrenamiento = DT.score(x_train, y_train)\n",
    "acierto_test = DT.score(x_test, y_test)\n",
    "print(\"Acierto en el conjunto de entrenamiento: {0:.2f}%\".format(acierto_entrenamiento*100.))\n",
    "print(\"Acierto en el conjunto de test: {0:.2f}%\".format(acierto_test*100.))"
   ]
  },
  {
   "cell_type": "markdown",
   "metadata": {
    "colab_type": "text",
    "id": "TPKPflyh8XPJ",
    "slideshow": {
     "slide_type": "slide"
    }
   },
   "source": [
    "Los árboles de decisión (si no tienen muchos nodos) se pueden visualizar"
   ]
  },
  {
   "cell_type": "code",
   "execution_count": null,
   "metadata": {
    "colab": {
     "base_uri": "https://localhost:8080/",
     "height": 757
    },
    "colab_type": "code",
    "executionInfo": {
     "elapsed": 134399,
     "status": "ok",
     "timestamp": 1592636133547,
     "user": {
      "displayName": "EMILIO PARRADO HERNANDEZ",
      "photoUrl": "https://lh3.googleusercontent.com/a-/AOh14Ghu-OvX6osyVq8b7J4Xa7D7HiZ61sPYwKqgPxyJ=s64",
      "userId": "09506376050266996513"
     },
     "user_tz": -120
    },
    "id": "6yORdBphcsvA",
    "outputId": "b7dd4b03-7178-4510-923d-e2ba82dad759",
    "slideshow": {
     "slide_type": "slide"
    }
   },
   "outputs": [],
   "source": [
    "import graphviz\n",
    "from sklearn import tree\n",
    "dot_Data = tree.export_graphviz(DT, \n",
    "                                out_file=None, \n",
    "                                feature_names = data.columns[:-1],\n",
    "                               class_names=['no spam','spam'],\n",
    "                                filled=True, \n",
    "                                rounded=True,  \n",
    "                              special_characters=True)\n",
    "graph = graphviz.Source(dot_Data)\n",
    "graph"
   ]
  },
  {
   "cell_type": "markdown",
   "metadata": {
    "colab_type": "text",
    "id": "kLUEgdHv9AB1",
    "slideshow": {
     "slide_type": "slide"
    }
   },
   "source": [
    "### Influencia del número de hojas"
   ]
  },
  {
   "cell_type": "code",
   "execution_count": null,
   "metadata": {
    "colab": {
     "base_uri": "https://localhost:8080/",
     "height": 295
    },
    "colab_type": "code",
    "executionInfo": {
     "elapsed": 134392,
     "status": "ok",
     "timestamp": 1592636133547,
     "user": {
      "displayName": "EMILIO PARRADO HERNANDEZ",
      "photoUrl": "https://lh3.googleusercontent.com/a-/AOh14Ghu-OvX6osyVq8b7J4Xa7D7HiZ61sPYwKqgPxyJ=s64",
      "userId": "09506376050266996513"
     },
     "user_tz": -120
    },
    "id": "fgCqMLHIcsvF",
    "outputId": "f33c6a10-238c-4223-8997-d7c924558544"
   },
   "outputs": [],
   "source": [
    "##\n",
    "##\n",
    "##\n",
    "##\n",
    "##\n",
    "##\n",
    "v_num_hojas = [2, 3, 4, 5, 6, 7, 8, 9, 10, 20, 30, 40, 50, 100]\n",
    "\n",
    "dt_entr = np.empty(len(v_num_hojas))\n",
    "dt_test = np.empty(len(v_num_hojas))\n",
    "for ih,hh in enumerate(v_num_hojas):\n",
    "    DT = DecisionTreeClassifier(max_leaf_nodes=hh)\n",
    "    DT.fit(x_train, y_train)\n",
    "    dt_entr[ih] = 100.*DT.score(x_train, y_train)\n",
    "    dt_test[ih] = 100.*DT.score(x_test, y_test)\n",
    "plt.figure()\n",
    "plt.plot(v_num_hojas, dt_entr, label='Acierto entrenamiento')\n",
    "plt.plot(v_num_hojas, dt_test, label='Acierto test')\n",
    "plt.plot(v_num_hojas, baseline*np.ones(len(v_num_hojas)), label='baseline')\n",
    "_ = plt.xlabel('Num hojas')\n",
    "_ = plt.ylabel('Acierto (%)')\n",
    "_ = plt.legend()\n",
    "plt.grid()\n",
    "best_k = v_num_hojas[np.argmax(dt_test)]\n",
    "plt.show()\n",
    "print(\"El número de hojas que da el mejor resultado en test es {0:d}, acierto del  {1:.2f}\".format(best_k, \n",
    "                                                                                                     np.max(dt_test)))\n",
    "acierto_spam_dt = np.max(dt_test)"
   ]
  },
  {
   "cell_type": "markdown",
   "metadata": {
    "colab_type": "text",
    "id": "hHRUzq_NcsvH",
    "slideshow": {
     "slide_type": "slide"
    }
   },
   "source": [
    "# Parámetros entrenables e hiperparámetros\n",
    "\n",
    "Dentro del entrenamiento árbol de decisión hay que asignar valores a dos tipos de parámetros:\n",
    "- **Parámetros** entrenables: Variable y umbral en cada split. Se ajustan durante la optimización que se produce al invocar el método `fit`\n",
    "- **Hiperparámetros**: se ajustan durante la creación del árbol (llamada al método `__init__` que se hace al ejecutar `DecisionTreeClassifier()`.  Condicionan la optimización del método `fit`. Usamos información a priori para ajustarlos, es la manera que tenemos de controlar la **capacidad de generalización del árbol**.\n",
    "\n",
    "<img src='http://www.tsc.uc3m.es/~emipar/BBVA/INTRO/img/logo_uc3m_foot.jpg' width=400 />\n"
   ]
  },
  {
   "cell_type": "markdown",
   "metadata": {
    "colab_type": "text",
    "id": "FNdFBNPYcsvH",
    "slideshow": {
     "slide_type": "slide"
    }
   },
   "source": [
    "# Sobreajuste \n",
    "\n",
    "Cada modelo de aprendizaje automático lleva implícita una **capacidad expresiva**: potencialidad de ajustar los valores de sus parámetros o su arquitectura para capturar patrones en los datos. En general, cuantos más parámetros (o más compleja sea la estructura), mayor capacidad expresiva. \n",
    "\n",
    "En el árbol de decisión el número de nodos marca la capacidad expresiva.\n",
    "\n",
    "La esencia del entrenamiento del modelo consiste en capturar patrones existentes en los datos debidos a la tarea que queremos resolver. Una manera trivial de resolver el problema de spam para el conjunto de entrenamiento es construir un árbol donde cada observación acabe en una hoja independiente (equivalente a un clasificador 1NN). El acierto de este modelo superexpresivo en el conjunto de entrenamiento será del 100%. Pero no conseguimos un acierto del 100% en el conjunto de test: estamos **sobreajustando** (*overfitting*) los parámetros del modelo al conjunto de entrenamiento.\n",
    "\n",
    "<img src='http://www.tsc.uc3m.es/~emipar/BBVA/INTRO/img/logo_uc3m_foot.jpg' width=400 />\n",
    "\n"
   ]
  },
  {
   "cell_type": "markdown",
   "metadata": {
    "colab_type": "text",
    "id": "8HFVqiptcsvH"
   },
   "source": [
    "Si una hoja del árbol contiene una única observación, esa observación no ha llegado a esa hoja por ser spam o no spam, ha llegado ahí por ser diferente a todas las demás observaciones. Por lo tanto esa rama no está capturando un patrón que nos ayude a separar spam de no spam, sino a separar correos idénticos a la observación que define la hoja de cualquier otro correo, independientemente de su clase *target*.\n",
    "\n",
    "Limitando el número de hojas podemos controlar el sobreajuste pero corremos el riesgo de **limitar la capacidad expresiva** impidiendo que el modelo pueda capturar todos los patrones relevantes.\n",
    "\n",
    "<img src='http://www.tsc.uc3m.es/~emipar/BBVA/INTRO/img/logo_uc3m_foot.jpg' width=400 />\n"
   ]
  },
  {
   "cell_type": "code",
   "execution_count": null,
   "metadata": {
    "colab": {
     "base_uri": "https://localhost:8080/",
     "height": 280
    },
    "colab_type": "code",
    "executionInfo": {
     "elapsed": 135197,
     "status": "ok",
     "timestamp": 1592636134362,
     "user": {
      "displayName": "EMILIO PARRADO HERNANDEZ",
      "photoUrl": "https://lh3.googleusercontent.com/a-/AOh14Ghu-OvX6osyVq8b7J4Xa7D7HiZ61sPYwKqgPxyJ=s64",
      "userId": "09506376050266996513"
     },
     "user_tz": -120
    },
    "id": "7lf-8obJcsvI",
    "outputId": "7b6b85f4-bf06-466f-dad1-27d8ef49250c"
   },
   "outputs": [],
   "source": [
    "v_num_hojas = [2,5,10, 20, 200, 2000]\n",
    "\n",
    "dt_entr = np.empty(len(v_num_hojas))\n",
    "dt_test = np.empty(len(v_num_hojas))\n",
    "for ih,hh in enumerate(v_num_hojas):\n",
    "    DT = DecisionTreeClassifier(max_leaf_nodes=hh)\n",
    "    DT.fit(x_train, y_train)\n",
    "    dt_entr[ih] = 100.*DT.score(x_train, y_train)\n",
    "    dt_test[ih] = 100.*DT.score(x_test, y_test)\n",
    "plt.figure()\n",
    "plt.plot(v_num_hojas, dt_entr, label='Acierto entrenamiento')\n",
    "plt.plot(v_num_hojas, dt_test, label='Acierto test')\n",
    "plt.plot(v_num_hojas, baseline*np.ones(len(v_num_hojas)), label='baseline')\n",
    "plt.xscale('log')\n",
    "plt.fill_between(np.array([200,2000]),\n",
    "                dt_entr[-2:],\n",
    "                dt_test[-2:],\n",
    "                color='red',\n",
    "                alpha=0.2,\n",
    "                label='sobreajuste')\n",
    "plt.fill_between(np.array([2,5]),\n",
    "                dt_entr[:2],\n",
    "                dt_test[:2],\n",
    "                color='olive',\n",
    "                alpha=0.6,\n",
    "                label='subajuste')\n",
    "_ = plt.xlabel('Num hojas')\n",
    "_ = plt.ylabel('Acierto (%)')\n",
    "_ = plt.legend()\n",
    "plt.grid()\n"
   ]
  },
  {
   "cell_type": "markdown",
   "metadata": {
    "colab_type": "text",
    "id": "8zih_WXP97O4",
    "slideshow": {
     "slide_type": "slide"
    }
   },
   "source": [
    "## Ejercicio\n",
    "Estudiar la influencia de alguno de los **hiperparámetros** de los que depende la configuración del árbol de decisión. Reemplazando `max_leaf_nodes` por otro parámetro intentar conseguir árboles parecidos."
   ]
  },
  {
   "cell_type": "markdown",
   "metadata": {
    "colab_type": "text",
    "id": "UHAUPscGcsvK",
    "slideshow": {
     "slide_type": "slide"
    }
   },
   "source": [
    "# Árboles de Regresión\n",
    "\n",
    "La estructura jerárquica del árbol de decisión se puede adaptar fácilmente a problemas de regresión cambiando la función con la que se evalúa la mediocridad de cada test de umbral.\n",
    "\n",
    "## Medidas de mediocridad de test de umbral para regresión\n",
    "- Error cuadrático medio (MSE). Si empleamos esta medida de mediocridad, el *target* asignado al nodo (equivalente de la clase mayoritaria para clasificación) debe ser la **media** de los targets de las observaciones del conjunto de entrenamiento que llegan al nodo.\n",
    "- Error absoluto medio (MAE). Si empleamos esta medida de mediocridad, el *target* asignado al nodo debe ser la **mediana**.\n",
    "\n",
    "<img src='http://www.tsc.uc3m.es/~emipar/BBVA/INTRO/img/logo_uc3m_foot.jpg' width=400 />\n",
    "\n"
   ]
  },
  {
   "cell_type": "markdown",
   "metadata": {
    "colab_type": "text",
    "id": "xnQzHuwfcsvL"
   },
   "source": [
    "## Optimización de cada test de umbral para regresión\n",
    "Si a un nodo $h_0$ llegan $N$ observaciones en $d$ dimensiones, cada test se optimiza mediante un bucle anidado que se ejecuta por cada dimensión:\n",
    "1. Ordenar las observaciones por sus valores de la variable $(\\mathbf x)_j$, $j=1,\\dots,d$\n",
    "2. Existen como mucho $N-1$ posibles test de umbral (si hay valores repetidos para una variable habrá menos de $N-1$ posibles umbrales)\n",
    "3. Bucle que recorre cada uno de los $N-1$ umbrales\n",
    "    - Suponemos el test de umbral divide el nodo rama en dos nodos hijos, $h_1$ y $h_2$, donde\n",
    "        - $h_1$ recibe $N_1$ de las $N$ observaciones y $h_2$ recibe $N_2$ de las $N$ observaciones  ($N_1 + N_2=N$),\n",
    "        - Si se optimiza el MSE:\n",
    "            - el target asignado al nodo $h_1$ será la media de las $N_1$ observaciones que le correspondan (idem para  $h_2$)\n",
    "            - la mediocridad del nodo hijo $G_1$ será el MSE resultante de estimar las $N_1$ observaciones que caen en $h_1$ con su media (idem para  $h_2$)\n",
    "        - Si se optimiza el MAE:\n",
    "            - el target asignado al nodo $h_1$ será la mediana de las $N_1$ observaciones que le correspondan (idem para  $h_2$)\n",
    "            - la mediocridad del nodo hijo $G_1$ será el MAE resultante de estimar las $N_1$ observaciones que caen en $h_1$ con su mediana (idem para  $h_2$)\n",
    "    - Evaluamos la **mediocridad** del test como $\\frac{N_1}{N}G_1 + \\frac{N_2}{N}G_2$\n",
    "4. Elegimos como test de umbral para dividir $h_0$ el mejor de los $(N-1)\\times d$ test probados en el bucle anidado\n",
    "\n",
    "<img src='http://www.tsc.uc3m.es/~emipar/BBVA/INTRO/img/logo_uc3m_foot.jpg' width=400 />\n"
   ]
  },
  {
   "cell_type": "markdown",
   "metadata": {
    "colab_type": "text",
    "id": "2PtBDWO5csvL"
   },
   "source": [
    "# Housing con árboles de regresión"
   ]
  },
  {
   "cell_type": "code",
   "execution_count": null,
   "metadata": {},
   "outputs": [],
   "source": [
    "housing = fetch_california_housing()\n",
    "data = housing.data[:nn_california]\n",
    "targets = housing.target[:nn_california]\n",
    "data_df = pd.DataFrame(np.vstack((data.T,targets)).T, columns=housing['feature_names']+ housing['target_names'])\n",
    "x_train, x_test, y_train, y_test = train_test_split(data, targets, test_size=0.3, random_state=42)"
   ]
  },
  {
   "cell_type": "code",
   "execution_count": null,
   "metadata": {
    "colab": {
     "base_uri": "https://localhost:8080/",
     "height": 52
    },
    "colab_type": "code",
    "executionInfo": {
     "elapsed": 135189,
     "status": "ok",
     "timestamp": 1592636134363,
     "user": {
      "displayName": "EMILIO PARRADO HERNANDEZ",
      "photoUrl": "https://lh3.googleusercontent.com/a-/AOh14Ghu-OvX6osyVq8b7J4Xa7D7HiZ61sPYwKqgPxyJ=s64",
      "userId": "09506376050266996513"
     },
     "user_tz": -120
    },
    "id": "2AM4_lUPcsvN",
    "outputId": "0e35c9ae-99db-4cef-a6b8-197cb78411b7"
   },
   "outputs": [],
   "source": [
    "from sklearn.tree import DecisionTreeRegressor\n",
    "DT = DecisionTreeRegressor(max_leaf_nodes=8)\n",
    "DT.fit(x_train, y_train)\n",
    "riesgo_entrenamiento = DT.score(x_train, y_train)\n",
    "riego_test = DT.score(x_test, y_test)\n",
    "print(\"R^2 en el conjunto de entrenamiento: {0:.2f}\".format(riesgo_entrenamiento))\n",
    "print(\"R^2 en el conjunto de test: {0:.2f}\".format(riego_test))"
   ]
  },
  {
   "cell_type": "code",
   "execution_count": null,
   "metadata": {
    "colab": {
     "base_uri": "https://localhost:8080/",
     "height": 657
    },
    "colab_type": "code",
    "executionInfo": {
     "elapsed": 135183,
     "status": "ok",
     "timestamp": 1592636134364,
     "user": {
      "displayName": "EMILIO PARRADO HERNANDEZ",
      "photoUrl": "https://lh3.googleusercontent.com/a-/AOh14Ghu-OvX6osyVq8b7J4Xa7D7HiZ61sPYwKqgPxyJ=s64",
      "userId": "09506376050266996513"
     },
     "user_tz": -120
    },
    "id": "cctQdRcRcsvP",
    "outputId": "3156f272-5e5f-42c7-a862-9f663b2aabdf"
   },
   "outputs": [],
   "source": [
    "dot_Data = tree.export_graphviz(DT, \n",
    "                                out_file=None, \n",
    "                                feature_names = housing['feature_names'],\n",
    "                                filled=True, \n",
    "                                rounded=True,  \n",
    "                              special_characters=True)\n",
    "graph = graphviz.Source(dot_Data)\n",
    "graph"
   ]
  },
  {
   "cell_type": "code",
   "execution_count": null,
   "metadata": {
    "colab": {
     "base_uri": "https://localhost:8080/",
     "height": 297
    },
    "colab_type": "code",
    "executionInfo": {
     "elapsed": 135999,
     "status": "ok",
     "timestamp": 1592636135188,
     "user": {
      "displayName": "EMILIO PARRADO HERNANDEZ",
      "photoUrl": "https://lh3.googleusercontent.com/a-/AOh14Ghu-OvX6osyVq8b7J4Xa7D7HiZ61sPYwKqgPxyJ=s64",
      "userId": "09506376050266996513"
     },
     "user_tz": -120
    },
    "id": "dhV-rOx5csvR",
    "outputId": "285f8355-8d67-4d23-8763-fe005458ea82"
   },
   "outputs": [],
   "source": [
    "##\n",
    "##\n",
    "##\n",
    "##\n",
    "##\n",
    "##\n",
    "v_num_hojas = [2, 3, 4, 5, 6, 7, 8, 9, 10, 20, 30, 40, 50, 100, 300]\n",
    "\n",
    "dt_entr = np.empty(len(v_num_hojas))\n",
    "dt_test = np.empty(len(v_num_hojas))\n",
    "for inn, hh in enumerate(v_num_hojas):\n",
    "    DT = DecisionTreeRegressor(max_leaf_nodes=hh)\n",
    "    DT.fit(x_train, y_train)\n",
    "    dt_entr[inn] = DT.score(x_train, y_train)\n",
    "    dt_test[inn] = DT.score(x_test, y_test)\n",
    "plt.figure()\n",
    "plt.plot(v_num_hojas, dt_entr, label='$R^2$ entrenamiento')\n",
    "plt.plot(v_num_hojas, dt_test, label='$R^2$ test')\n",
    "plt.plot(v_num_hojas, r2_score(y_test,np.ones(len(y_test))*np.mean(y_train))*np.ones(len(v_num_hojas)), label='baseline')\n",
    "_ = plt.xlabel('Num hojas')\n",
    "_ = plt.ylabel('$R^2$')\n",
    "_ = plt.legend()\n",
    "plt.grid()\n",
    "plt.xscale('log')\n",
    "best_k = v_nn[np.argmax(dt_test)]\n",
    "plt.show()\n",
    "print(\"El número de hojas que da el mejor resultado en test es {0:d}, R^2 del  {1:.2f}\".format(best_k, \n",
    "                                                                                                     np.max(dt_test)))\n",
    "acierto_housing_dt = np.max(dt_test)"
   ]
  },
  {
   "cell_type": "markdown",
   "metadata": {
    "colab_type": "text",
    "id": "tkhy0RCbcsvS",
    "slideshow": {
     "slide_type": "slide"
    }
   },
   "source": [
    "## Ventajas y limitaciones de árboles\n",
    "- :o) Resuelven de modo natural problemas de regresión, clasificación binaria y multiclase\n",
    "- :o) Los splits binarios (aún en problemas multiclase, o con variables categóricas) ayudan a controlar el compromiso entre generalización y capacidad expresiva\n",
    "- :o) Son fáciles de explicar (que no de interpretar, salvo que haya pocos nodos)\n",
    "- :o) Son fáciles y relativamente poco costosos de evaluar\n",
    "- :o( Fronteras de clasificación que no sean paralelas a los ejes son costosas de recrear\n",
    "- :o( La optimización es de tipo *greedy*, los nodos rama más pegados a la raíz son determinantes en la solución global\n",
    "- :o( Compromiso entre número de observaciones y número de variables. A medida que se avanza en la jerarquía cada vez hay menos observaciones para entrenar los nodos hoja. Si el número de variables es alto, podemos incurrir en sobreajustes (que el árbol separe observaciones individuales, no detecte patrones relacionados con la tarea a resolver)\n",
    "\n",
    "<img src='http://www.tsc.uc3m.es/~emipar/BBVA/INTRO/img/logo_uc3m_foot.jpg' width=400 />\n"
   ]
  },
  {
   "cell_type": "markdown",
   "metadata": {
    "colab_type": "text",
    "id": "8ZxkYsmjcsvS",
    "slideshow": {
     "slide_type": "slide"
    }
   },
   "source": [
    "# Random Forests\n",
    "\n",
    "## Modelos basados en conjuntos (*ensemble methods*)\n",
    "Hay una manera de robustecer modelos de aprendizaje automático que consiste en entrenar un conjunto de modelos con el mismo conjunto de entrenamiento de partida pero introduciendo elementos que introduzcan diversidad:\n",
    "- submuestreando el conjunto de entrenamiento\n",
    "- inicializando aleatoriamente alguno de los parámetros de diseño de cada miembro del conjunto.  \n",
    "\n",
    "La manera de explotar el conjunto para hacer predicciones es que cada miembro hace su predicción para cada observación del conjunto de test y todas estas predicciones se combinan en una predicción global.\n",
    "- Tomando la media de las predicciones\n",
    "- Tomando la moda de las predicciones\n",
    "- Ponderando los votos por la fiabilidad de cada miembro, etc.\n",
    "\n",
    "De esta manera se consigue limitar la capacidad de sobreajuste o diluirla.\n",
    "\n",
    "<img src='http://www.tsc.uc3m.es/~emipar/BBVA/INTRO/img/logo_uc3m_foot.jpg' width=400 />\n"
   ]
  },
  {
   "cell_type": "markdown",
   "metadata": {
    "colab_type": "text",
    "id": "HjTktM4tcsvT",
    "slideshow": {
     "slide_type": "slide"
    }
   },
   "source": [
    "## Random Forest para clasificación o regresión\n",
    "\n",
    "Es un algoritmo para generar $B$ árboles de decisión que se integran en un modelo de conjuntos orientado a resolver un problema de clasificación o regresión (recordad el algoritmo para generar cada árbol es el mismo sólo cambia la función de mediocridad y la manera de calcular el *target* que se asigna a cada nodo hijo.\n",
    "\n",
    "El algoritmo es un bucle que se repite $B$ veces, una por cada árbol del bosque. Como entrada se reciben $N$ observaciones en $d$ dimensiones, con sus correspondientes *targets*, y un **tamaño de bosque** $B$.\n",
    "\n",
    "1. Elegir al azar un subconjunto de observaciones del conjunto de entrenamiento de tamaño $N_b$\n",
    "2. Aprender el árbol $T_b$ usando como conjunto de entrenamiento las $N_b$ observaciones pero introduciendo la siguiente modificación en el algoritmo del árbol:\n",
    "   - Antes de aprender cada *stump* elegir al azar $m_b$ variables de las $d$ disponibles, es decir, cada nodo sólo ve un subconjunto de las variables de entrada para optimizar su test de umbral\n",
    "3. Para hacer una predicción. Cada observación del conjunto de test se predice con los $B$ árboles. La predicción final del bosque es\n",
    "    - en bosques de regresión: la media de las $B$ predicciones\n",
    "    - en bosques de clasificación: la clase más votada\n",
    "    \n",
    "<img src='http://www.tsc.uc3m.es/~emipar/BBVA/INTRO/img/logo_uc3m_foot.jpg' width=400 />\n",
    "\n"
   ]
  },
  {
   "cell_type": "markdown",
   "metadata": {
    "colab_type": "text",
    "id": "6QBX3xt8csvT",
    "slideshow": {
     "slide_type": "slide"
    }
   },
   "source": [
    "## Random Forest en sklearn para clasificación\n",
    "\n",
    "El módulo que implementa *Random Forest* para clasificación es [`sklearn.ensemble.RandomForestClassifier`](https://scikit-learn.org/stable/modules/generated/sklearn.ensemble.RandomForestClassifier.html). La API tiene hiperparámetros para controlar la capacidad de generalización de cada árbol y la del bosque en sí. Algunos de estos hiperparámetros son:\n",
    "- `n_estimators`: Tamaño del bosque\n",
    "- `bootstrap`: si usar o no todas las observaciones con cada árbol\n",
    "- `oob_score`: medida de relevancia de cada variable\n",
    "- `max_samples`: si hay bootstrap, número de observaciones para entrenar cada árbol\n",
    "\n",
    "<img src='http://www.tsc.uc3m.es/~emipar/BBVA/INTRO/img/logo_uc3m_foot.jpg' width=400 />\n"
   ]
  },
  {
   "cell_type": "markdown",
   "metadata": {
    "colab_type": "text",
    "id": "JaPBLN3ycsvT"
   },
   "source": [
    "## Random Forest y spam detection"
   ]
  },
  {
   "cell_type": "code",
   "execution_count": null,
   "metadata": {
    "colab": {},
    "colab_type": "code",
    "executionInfo": {
     "elapsed": 136538,
     "status": "ok",
     "timestamp": 1592636135730,
     "user": {
      "displayName": "EMILIO PARRADO HERNANDEZ",
      "photoUrl": "https://lh3.googleusercontent.com/a-/AOh14Ghu-OvX6osyVq8b7J4Xa7D7HiZ61sPYwKqgPxyJ=s64",
      "userId": "09506376050266996513"
     },
     "user_tz": -120
    },
    "id": "IpKUG-AHcsvT"
   },
   "outputs": [],
   "source": [
    "data = load_spam()\n",
    "X = data[data.columns[:57]].values\n",
    "Y = data['target'].values\n",
    "x_train, x_test, y_train, y_test = train_test_split(X, Y, test_size=0.3, random_state=42)\n",
    "baseline = max(100.*(1-np.mean(y_test)), 100.*np.mean(y_test))"
   ]
  },
  {
   "cell_type": "code",
   "execution_count": null,
   "metadata": {
    "colab": {
     "base_uri": "https://localhost:8080/",
     "height": 52
    },
    "colab_type": "code",
    "executionInfo": {
     "elapsed": 137059,
     "status": "ok",
     "timestamp": 1592636136259,
     "user": {
      "displayName": "EMILIO PARRADO HERNANDEZ",
      "photoUrl": "https://lh3.googleusercontent.com/a-/AOh14Ghu-OvX6osyVq8b7J4Xa7D7HiZ61sPYwKqgPxyJ=s64",
      "userId": "09506376050266996513"
     },
     "user_tz": -120
    },
    "id": "JStbFLGXcsvV",
    "outputId": "d0ce77f7-b565-4743-e6a0-e9ba3f994800"
   },
   "outputs": [],
   "source": [
    "from sklearn.ensemble import RandomForestClassifier\n",
    "RF = RandomForestClassifier(max_leaf_nodes=6,\n",
    "                           n_estimators=100)\n",
    "RF.fit(x_train, y_train)\n",
    "acierto_entrenamiento = RF.score(x_train, y_train)\n",
    "acierto_test = RF.score(x_test, y_test)\n",
    "print(\"Acierto en el conjunto de entrenamiento: {0:.2f}%\".format(acierto_entrenamiento*100.))\n",
    "print(\"Acierto en el conjunto de test: {0:.2f}%\".format(acierto_test*100.))"
   ]
  },
  {
   "cell_type": "markdown",
   "metadata": {
    "colab_type": "text",
    "id": "8sEDKXp8wN03"
   },
   "source": [
    "### Influencia del tamaño del bosque y de la complejidad de cada árbol"
   ]
  },
  {
   "cell_type": "code",
   "execution_count": null,
   "metadata": {
    "colab": {},
    "colab_type": "code",
    "executionInfo": {
     "elapsed": 137058,
     "status": "ok",
     "timestamp": 1592636136260,
     "user": {
      "displayName": "EMILIO PARRADO HERNANDEZ",
      "photoUrl": "https://lh3.googleusercontent.com/a-/AOh14Ghu-OvX6osyVq8b7J4Xa7D7HiZ61sPYwKqgPxyJ=s64",
      "userId": "09506376050266996513"
     },
     "user_tz": -120
    },
    "id": "wCl84wjNcsvX"
   },
   "outputs": [],
   "source": [
    "\n",
    "v_hojas = [2,3,4,5,10,20,50,100]\n",
    "v_arboles = [5,10,20,50,100,200,500, 1000]\n",
    "\n"
   ]
  },
  {
   "cell_type": "code",
   "execution_count": null,
   "metadata": {
    "colab": {
     "base_uri": "https://localhost:8080/",
     "height": 599
    },
    "colab_type": "code",
    "executionInfo": {
     "elapsed": 197022,
     "status": "ok",
     "timestamp": 1592636196232,
     "user": {
      "displayName": "EMILIO PARRADO HERNANDEZ",
      "photoUrl": "https://lh3.googleusercontent.com/a-/AOh14Ghu-OvX6osyVq8b7J4Xa7D7HiZ61sPYwKqgPxyJ=s64",
      "userId": "09506376050266996513"
     },
     "user_tz": -120
    },
    "id": "1bSI98LDcsvZ",
    "outputId": "dd2bfc02-b034-49f2-c8a1-bb001342c1e6"
   },
   "outputs": [],
   "source": [
    "ff,aa = plt.subplots(1, 2, sharex=True, sharey=True, figsize=(12,8))\n",
    "best_test = 0\n",
    "best_num_arboles = -1\n",
    "best_num_hojas = -1\n",
    "for kk, hh in enumerate(v_hojas): \n",
    "    dt_entr = np.empty(len(v_arboles))\n",
    "    dt_test = np.empty(len(v_arboles))\n",
    "    for ih,B in enumerate(v_arboles):\n",
    "        RF = RandomForestClassifier(max_leaf_nodes=hh,\n",
    "                       n_estimators=B)\n",
    "        RF.fit(x_train, y_train)\n",
    "        dt_entr[ih] = 100.*RF.score(x_train, y_train)\n",
    "        dt_test[ih] = 100.*RF.score(x_test, y_test)\n",
    "    if np.max(dt_test) > best_test:\n",
    "      best_test = np.max(dt_test)\n",
    "      best_num_arboles = B\n",
    "      best_num_hojas = hh    \n",
    "    aa[0].plot(v_arboles, dt_entr, label='{0:d} hojas'.format(hh))\n",
    "    aa[1].plot(v_arboles, dt_test, label='{0:d} hojas'.format(hh))\n",
    "    aa[0].set_title('Entrenamiento')\n",
    "    aa[1].set_title('Test')\n",
    "for jj in [0,1]:\n",
    "  aa[jj].set_xlabel('Num. arboles')\n",
    "  aa[jj].set_xscale('log')\n",
    "  aa[jj].legend()\n",
    "  aa[jj].set_ylabel('Acierto (%)')\n",
    "  aa[jj].grid()      \n",
    "  \n",
    "ff.tight_layout()\n",
    "\n",
    "ff.show()\n",
    "print(\"La mejor configuración en test es {0:d} árboles de {1:d} hojas, acierto del {2:.2f}%\".format(best_num_arboles, best_num_hojas, best_test))\n",
    "acierto_spam_rf = best_test"
   ]
  },
  {
   "cell_type": "markdown",
   "metadata": {
    "colab_type": "text",
    "id": "uINyJTJpcsvb"
   },
   "source": [
    "## Random Forest y  Housing\n"
   ]
  },
  {
   "cell_type": "code",
   "execution_count": null,
   "metadata": {},
   "outputs": [],
   "source": [
    "housing = fetch_california_housing()\n",
    "data = housing.data[:nn_california]\n",
    "targets = housing.target[:nn_california]\n",
    "data_df = pd.DataFrame(np.vstack((data.T,targets)).T, columns=housing['feature_names']+ housing['target_names'])\n",
    "x_train, x_test, y_train, y_test = train_test_split(data, targets, test_size=0.3, random_state=42)"
   ]
  },
  {
   "cell_type": "code",
   "execution_count": null,
   "metadata": {
    "colab": {
     "base_uri": "https://localhost:8080/",
     "height": 52
    },
    "colab_type": "code",
    "executionInfo": {
     "elapsed": 197014,
     "status": "ok",
     "timestamp": 1592636196233,
     "user": {
      "displayName": "EMILIO PARRADO HERNANDEZ",
      "photoUrl": "https://lh3.googleusercontent.com/a-/AOh14Ghu-OvX6osyVq8b7J4Xa7D7HiZ61sPYwKqgPxyJ=s64",
      "userId": "09506376050266996513"
     },
     "user_tz": -120
    },
    "id": "Lj5Cj4Z4csvc",
    "outputId": "41327e22-0d57-4827-c7f0-d8ed0e3becc7"
   },
   "outputs": [],
   "source": [
    "from sklearn.ensemble import RandomForestRegressor\n",
    "RF = RandomForestRegressor(max_leaf_nodes=6,\n",
    "                           n_estimators=100)\n",
    "RF.fit(x_train, y_train)\n",
    "riesgo_entrenamiento = RF.score(x_train, y_train)\n",
    "riesgo_test = RF.score(x_test, y_test)\n",
    "print(\"R^2 en el conjunto de entrenamiento: {0:.2f}\".format(riesgo_entrenamiento))\n",
    "print(\"R^2 en el conjunto de test: {0:.2f}\".format(riego_test))"
   ]
  },
  {
   "cell_type": "code",
   "execution_count": null,
   "metadata": {
    "colab": {
     "base_uri": "https://localhost:8080/",
     "height": 599
    },
    "colab_type": "code",
    "executionInfo": {
     "elapsed": 230230,
     "status": "ok",
     "timestamp": 1592636229458,
     "user": {
      "displayName": "EMILIO PARRADO HERNANDEZ",
      "photoUrl": "https://lh3.googleusercontent.com/a-/AOh14Ghu-OvX6osyVq8b7J4Xa7D7HiZ61sPYwKqgPxyJ=s64",
      "userId": "09506376050266996513"
     },
     "user_tz": -120
    },
    "id": "tMpIxsZMcsvf",
    "outputId": "f8b5a362-49e8-4640-d3e0-6f2c53ddc423"
   },
   "outputs": [],
   "source": [
    "ff,aa = plt.subplots(1, 2, sharex=True, sharey=True, figsize=(12,8))\n",
    "best_test = -10000\n",
    "best_num_arboles = -1\n",
    "best_num_hojas = -1\n",
    "for kk, hh in enumerate(v_hojas): \n",
    "    dt_entr = np.empty(len(v_arboles))\n",
    "    dt_test = np.empty(len(v_arboles))\n",
    "    for ih,B in enumerate(v_arboles):\n",
    "        RF = RandomForestRegressor(max_leaf_nodes=hh,\n",
    "                       n_estimators=B)\n",
    "        RF.fit(x_train, y_train)\n",
    "        dt_entr[ih] = RF.score(x_train, y_train)\n",
    "        dt_test[ih] = RF.score(x_test, y_test)\n",
    "    if np.max(dt_test) > best_test:\n",
    "      best_test = np.max(dt_test)\n",
    "      best_num_arboles = B\n",
    "      best_num_hojas = hh       \n",
    "    aa[0].plot(v_arboles, dt_entr, label='{0:d} hojas'.format(hh))\n",
    "    aa[1].plot(v_arboles, dt_test, label='{0:d} hojas'.format(hh))\n",
    "    aa[0].set_title('Entrenamiento')\n",
    "    aa[1].set_title('Test')\n",
    "for jj in [0,1]:\n",
    "    aa[jj].set_xlabel('Num. arboles')\n",
    "    aa[jj].set_xscale('log')\n",
    "    aa[jj].legend()\n",
    "    aa[jj].grid()\n",
    "    aa[jj].set_ylabel(\"$R^2$\")\n",
    "    \n",
    "        \n",
    "ff.tight_layout()\n",
    "\n",
    "print(\"La mejor configuración en test es {0:d} árboles de {1:d} hojas, R2 del {2:.2f}\".format(best_num_arboles, best_num_hojas, best_test))\n",
    "acierto_housing_rf = best_test"
   ]
  },
  {
   "cell_type": "markdown",
   "metadata": {
    "colab_type": "text",
    "id": "Y7qk6NTvvgmi"
   },
   "source": [
    "Podemos observar cómo es más crítico el valor del número de hojas que el del número de árboles a la hora de determinar el éxito del modelo"
   ]
  },
  {
   "cell_type": "markdown",
   "metadata": {
    "colab_type": "text",
    "id": "XfDCC1LWv5oZ"
   },
   "source": [
    "# Resumen de los mejores métodos"
   ]
  },
  {
   "cell_type": "code",
   "execution_count": null,
   "metadata": {
    "colab": {
     "base_uri": "https://localhost:8080/",
     "height": 280
    },
    "colab_type": "code",
    "executionInfo": {
     "elapsed": 230224,
     "status": "ok",
     "timestamp": 1592636229460,
     "user": {
      "displayName": "EMILIO PARRADO HERNANDEZ",
      "photoUrl": "https://lh3.googleusercontent.com/a-/AOh14Ghu-OvX6osyVq8b7J4Xa7D7HiZ61sPYwKqgPxyJ=s64",
      "userId": "09506376050266996513"
     },
     "user_tz": -120
    },
    "id": "KzUIf9uP9gIr",
    "outputId": "87aa02aa-aa95-46e0-80c4-b216d7fd10b0"
   },
   "outputs": [],
   "source": [
    "metodos_spam = ['baseline','kNN', 'kNN ponderado','arboles decision','random forest ']\n",
    "resultados_spam = [baseline_spam*100.,acierto_spam_knn, acierto_spam_knn_w, acierto_spam_dt,acierto_spam_rf]\n",
    "fx, ax = plt.subplots(1,1, figsize=(8,4))\n",
    "_ = ax.bar(range(len(metodos_spam)),\n",
    "       width=0.5,\n",
    "       height=resultados_spam,\n",
    "       tick_label=metodos_spam)\n",
    "ax.set_ylabel('Acierto (%)')\n",
    "_=ax.set_title('Resultados Spam Filtering')"
   ]
  },
  {
   "cell_type": "code",
   "execution_count": null,
   "metadata": {
    "colab": {
     "base_uri": "https://localhost:8080/",
     "height": 280
    },
    "colab_type": "code",
    "executionInfo": {
     "elapsed": 230216,
     "status": "ok",
     "timestamp": 1592636229461,
     "user": {
      "displayName": "EMILIO PARRADO HERNANDEZ",
      "photoUrl": "https://lh3.googleusercontent.com/a-/AOh14Ghu-OvX6osyVq8b7J4Xa7D7HiZ61sPYwKqgPxyJ=s64",
      "userId": "09506376050266996513"
     },
     "user_tz": -120
    },
    "id": "y0uBN1Nih9vJ",
    "outputId": "0cdd4ab9-a938-4208-c4b5-c3f186b6fcce"
   },
   "outputs": [],
   "source": [
    "metodos_spam = ['baseline','kNN', 'kNN ponderado','arboles decision','random forest ']\n",
    "resultados_spam = [0, acierto_housing_knn, acierto_housing_knn_w, acierto_housing_dt,acierto_housing_rf]\n",
    "fx, ax = plt.subplots(1,1,figsize=(8,4))\n",
    "_ = ax.bar(range(len(metodos_spam)),\n",
    "       width=0.5,\n",
    "       height=resultados_spam,\n",
    "       tick_label=metodos_spam)\n",
    "ax.set_ylabel('$R^2$')\n",
    "_=ax.set_title('Resultados Housing')"
   ]
  },
  {
   "cell_type": "markdown",
   "metadata": {
    "colab_type": "text",
    "id": "axAribYOkmZX"
   },
   "source": [
    "## Puntos para discutir la idoneidad de las soluciones\n",
    "- Precisión \n",
    "- Explicabilidad de los resultados\n",
    "- Capacidad de generalización\n",
    "- Mantenimiento del modelo\n",
    "- Tiempo de entrenamiento y de test\n"
   ]
  },
  {
   "cell_type": "markdown",
   "metadata": {
    "colab_type": "text",
    "id": "KNQZ-ECqKyuC"
   },
   "source": [
    "## Visualización de las fronteras de decisión en el *toy problem* \n",
    "\n",
    "### Para el $k$NN"
   ]
  },
  {
   "cell_type": "code",
   "execution_count": null,
   "metadata": {
    "colab": {
     "base_uri": "https://localhost:8080/",
     "height": 1000
    },
    "colab_type": "code",
    "executionInfo": {
     "elapsed": 236446,
     "status": "ok",
     "timestamp": 1592636235699,
     "user": {
      "displayName": "EMILIO PARRADO HERNANDEZ",
      "photoUrl": "https://lh3.googleusercontent.com/a-/AOh14Ghu-OvX6osyVq8b7J4Xa7D7HiZ61sPYwKqgPxyJ=s64",
      "userId": "09506376050266996513"
     },
     "user_tz": -120
    },
    "id": "EWHop7-yLOTR",
    "outputId": "4f64d330-6501-4c93-997b-5b072a996292"
   },
   "outputs": [],
   "source": [
    "v_hh = [1,2,3,4,5,6]\n",
    "fx,ax = plt.subplots(len(v_hh),2,sharex=True, sharey=True, figsize=(13,30))\n",
    "cc=0\n",
    "plot_step=0.05\n",
    "x_min, x_max = x0[:, 0].min() - 0.1, x0[:, 0].max() + 0.1\n",
    "y_min, y_max = x0[:, 1].min() - 0.1, x0[:, 1].max() + 0.1\n",
    "xx, yy = np.meshgrid(np.arange(x_min, x_max, plot_step),\n",
    "                         np.arange(y_min, y_max, plot_step))\n",
    "\n",
    "y1 = y.copy()\n",
    "y1[y1==0] = -1\n",
    "for cc,kk in enumerate(v_hh):\n",
    "  clf = KNeighborsClassifier(n_neighbors=kk)\n",
    "  clf.fit(x, -y1)\n",
    "  pinta_ejemplo(x,y,xt,ax[cc][0])\n",
    "  ax[cc][0].set_xlabel('x1')\n",
    "  ax[cc][0].set_ylabel('x2')\n",
    "  ax[cc][0].set_title(\"{0:d} vecinos\".format(kk))\n",
    "  Z = clf.predict(np.c_[xx.ravel(), yy.ravel()])\n",
    "  Z = Z.reshape(xx.shape)\n",
    "  cs = ax[cc][0].contourf(xx, yy, Z, cmap=plt.cm.RdYlBu, alpha=0.2)\n",
    "  _ = ax[cc][0].set_ylim([y_min, y_max])\n",
    "\n",
    "  clf = KNeighborsClassifier(n_neighbors=kk, weights='distance')\n",
    "  clf.fit(x, -y1)\n",
    "  pinta_ejemplo(x,y,xt,ax[cc][1])\n",
    "  ax[cc][1].set_xlabel('x1')\n",
    "  ax[cc][1].set_ylabel('x2')\n",
    "  ax[cc][1].set_title(\"{0:d} vecinos, ponderados\".format(kk))\n",
    "  Z = clf.predict(np.c_[xx.ravel(), yy.ravel()])\n",
    "  Z = Z.reshape(xx.shape)\n",
    "  cs = ax[cc][1].contourf(xx, yy, Z, cmap=plt.cm.RdYlBu, alpha=0.2)\n",
    "  _ = ax[cc][1].set_ylim([y_min, y_max])"
   ]
  },
  {
   "cell_type": "markdown",
   "metadata": {
    "colab_type": "text",
    "id": "wAlTMJLzNcYe"
   },
   "source": [
    "### Árboles de decisión con varios números de hoja\n"
   ]
  },
  {
   "cell_type": "code",
   "execution_count": null,
   "metadata": {
    "colab": {
     "base_uri": "https://localhost:8080/",
     "height": 1000
    },
    "colab_type": "code",
    "executionInfo": {
     "elapsed": 237341,
     "status": "ok",
     "timestamp": 1592636236602,
     "user": {
      "displayName": "EMILIO PARRADO HERNANDEZ",
      "photoUrl": "https://lh3.googleusercontent.com/a-/AOh14Ghu-OvX6osyVq8b7J4Xa7D7HiZ61sPYwKqgPxyJ=s64",
      "userId": "09506376050266996513"
     },
     "user_tz": -120
    },
    "id": "WYy3ezmOv9ym",
    "outputId": "987b7a96-64d9-4c3d-8ec5-2a94a10d0161"
   },
   "outputs": [],
   "source": [
    "v_hh = [2,3,4,6,8,10]\n",
    "fx,ax = plt.subplots(len(v_hh),1,sharex=True, sharey=True, figsize=(6,30))\n",
    "cc=0\n",
    "plot_step=0.05\n",
    "x_min, x_max = x0[:, 0].min() - 0.1, x0[:, 0].max() + 0.1\n",
    "y_min, y_max = x0[:, 1].min() - 0.1, x0[:, 1].max() + 0.1\n",
    "xx, yy = np.meshgrid(np.arange(x_min, x_max, plot_step),\n",
    "                         np.arange(y_min, y_max, plot_step))\n",
    "\n",
    "y1 = y.copy()\n",
    "y1[y1==0] = -1\n",
    "for cc,kk in enumerate(v_hh):\n",
    "  DT = DecisionTreeClassifier(max_leaf_nodes=kk,random_state=42)\n",
    "  DT.fit(x, -y1)\n",
    "  pinta_ejemplo(x,y,xt,ax[cc])\n",
    "  ax[cc].set_xlabel('x1')\n",
    "  ax[cc].set_ylabel('x2')\n",
    "  ax[cc].set_title('{0:d} hojas'.format(kk))\n",
    "  Z = DT.predict(np.c_[xx.ravel(), yy.ravel()])\n",
    "  Z = Z.reshape(xx.shape)\n",
    "  cs = ax[cc].contourf(xx, yy, Z, cmap=plt.cm.RdYlBu, alpha=0.2)\n",
    "  _ = ax[cc].set_ylim([y_min, y_max])\n"
   ]
  },
  {
   "cell_type": "markdown",
   "metadata": {},
   "source": [
    "### Random Forests"
   ]
  },
  {
   "cell_type": "code",
   "execution_count": null,
   "metadata": {
    "colab": {
     "base_uri": "https://localhost:8080/",
     "height": 1000
    },
    "colab_type": "code",
    "executionInfo": {
     "elapsed": 241084,
     "status": "ok",
     "timestamp": 1592636240353,
     "user": {
      "displayName": "EMILIO PARRADO HERNANDEZ",
      "photoUrl": "https://lh3.googleusercontent.com/a-/AOh14Ghu-OvX6osyVq8b7J4Xa7D7HiZ61sPYwKqgPxyJ=s64",
      "userId": "09506376050266996513"
     },
     "user_tz": -120
    },
    "id": "2DnXnL39N8LF",
    "outputId": "485651af-4bc7-45a4-f044-ee613681efdd"
   },
   "outputs": [],
   "source": [
    "v_hh = [2,5,10,20]\n",
    "fx,ax = plt.subplots(len(v_hh),2,sharex=True, sharey=True, figsize=(13,30))\n",
    "cc=0\n",
    "plot_step=0.05\n",
    "x_min, x_max = x0[:, 0].min() - 0.1, x0[:, 0].max() + 0.1\n",
    "y_min, y_max = x0[:, 1].min() - 0.1, x0[:, 1].max() + 0.1\n",
    "xx, yy = np.meshgrid(np.arange(x_min, x_max, plot_step),\n",
    "                         np.arange(y_min, y_max, plot_step))\n",
    "\n",
    "y1 = y.copy()\n",
    "y1[y1==0] = -1\n",
    "for cc,kk in enumerate(v_hh):\n",
    "  hojas=2\n",
    "  clf = RandomForestClassifier(max_leaf_nodes=hojas,\n",
    "                       n_estimators=kk)\n",
    "  clf.fit(x, -y1)\n",
    "  pinta_ejemplo(x,y,xt,ax[cc][0])\n",
    "  ax[cc][0].set_xlabel('x1')\n",
    "  ax[cc][0].set_ylabel('x2')\n",
    "  ax[cc][0].set_title(\"{0:d} arboles, {1:d} hojas\".format(kk, hojas))\n",
    "  Z = clf.predict(np.c_[xx.ravel(), yy.ravel()])\n",
    "  Z = Z.reshape(xx.shape)\n",
    "  cs = ax[cc][0].contourf(xx, yy, Z, cmap=plt.cm.RdYlBu, alpha=0.2)\n",
    "  _ = ax[cc][0].set_ylim([y_min, y_max])\n",
    "\n",
    "  hojas=6\n",
    "  clf = RandomForestClassifier(max_leaf_nodes=hojas,\n",
    "                       n_estimators=kk)\n",
    "  clf.fit(x, -y1)\n",
    "  pinta_ejemplo(x,y,xt,ax[cc][1])\n",
    "  ax[cc][1].set_xlabel('x1')\n",
    "  ax[cc][1].set_ylabel('x2')\n",
    "  ax[cc][1].set_title(\"{0:d} arboles, {1:d} hojas\".format(kk, hojas))\n",
    "  Z = clf.predict(np.c_[xx.ravel(), yy.ravel()])\n",
    "  Z = Z.reshape(xx.shape)\n",
    "  cs = ax[cc][1].contourf(xx, yy, Z, cmap=plt.cm.RdYlBu, alpha=0.2)\n",
    "  _ = ax[cc][1].set_ylim([y_min, y_max])"
   ]
  },
  {
   "cell_type": "code",
   "execution_count": null,
   "metadata": {
    "colab": {},
    "colab_type": "code",
    "executionInfo": {
     "elapsed": 241083,
     "status": "ok",
     "timestamp": 1592636240354,
     "user": {
      "displayName": "EMILIO PARRADO HERNANDEZ",
      "photoUrl": "https://lh3.googleusercontent.com/a-/AOh14Ghu-OvX6osyVq8b7J4Xa7D7HiZ61sPYwKqgPxyJ=s64",
      "userId": "09506376050266996513"
     },
     "user_tz": -120
    },
    "id": "xCxNIf7LO1pF"
   },
   "outputs": [],
   "source": []
  },
  {
   "cell_type": "code",
   "execution_count": null,
   "metadata": {},
   "outputs": [],
   "source": []
  }
 ],
 "metadata": {
  "celltoolbar": "Slideshow",
  "colab": {
   "collapsed_sections": [
    "DgU2fdCqcsuh",
    "8d2odd9rcsui",
    "g0Ea-0-Ncsur",
    "aKNj2quWcsu2",
    "TG6Hczj5csu2",
    "hkaoPI7Ncsu2",
    "xnQzHuwfcsvL",
    "tkhy0RCbcsvS",
    "HjTktM4tcsvT",
    "6QBX3xt8csvT"
   ],
   "name": "arboles_y_vecinos.ipynb",
   "provenance": []
  },
  "kernelspec": {
   "display_name": "Python 3 (ipykernel)",
   "language": "python",
   "name": "python3"
  },
  "language_info": {
   "codemirror_mode": {
    "name": "ipython",
    "version": 3
   },
   "file_extension": ".py",
   "mimetype": "text/x-python",
   "name": "python",
   "nbconvert_exporter": "python",
   "pygments_lexer": "ipython3",
   "version": "3.10.2"
  }
 },
 "nbformat": 4,
 "nbformat_minor": 1
}
